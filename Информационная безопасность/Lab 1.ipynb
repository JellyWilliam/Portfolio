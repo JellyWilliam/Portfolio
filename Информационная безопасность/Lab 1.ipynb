{
 "cells": [
  {
   "attachments": {
    "09797664-dc01-4327-b250-820aef0817ae.png": {
     "image/png": "[encoded data removed]"
    }
   },
   "cell_type": "markdown",
   "id": "bd83aa8e-e0b4-40c2-8f9d-fc5ead2dd30a",
   "metadata": {},
   "source": [
    "**Вариант 5**\n",
    "\n",
    "**Задание 1**\n",
    "\n",
    "Создайте программы шифрования и расшифровки методом простой замены прилагаемого (по вариантам) англоязычного текста, если таблица простой замены имеет вид:\n",
    "\n",
    "![image.png](attachment:09797664-dc01-4327-b250-820aef0817ae.png)\n",
    "\n",
    "Знаки препинания и другие символы, встречающиеся в исходном тексте шифрованию не подлежат."
   ]
  },
  {
   "cell_type": "code",
   "execution_count": 1,
   "id": "d7b09b08-0610-4f30-a433-c5732c61da35",
   "metadata": {},
   "outputs": [
    {
     "name": "stdout",
     "output_type": "stream",
     "text": [
      "OMAJ DAXRTJR SGGDARJ OB STU GNBINSW BN BOMRN HBNE HMAXM XBTOSATJ\n",
      "S TBOAXR GDSXRL PU OMR XBGUNAIMO MBDLRN JSUATI AO WSU PR LAJONAPCORL\n",
      "CTLRN OMR ORNWJ BZ OMAJ IRTRNSD GCPDAX DAXRTJR. OMR \"GNBINSW\", PRDBH,\n",
      "NRZRNJ OB STU JCXM GNBINSW BN HBNE, STL S \"HBNE PSJRL BT OMR GNBINSW\"\n",
      "WRSTJ RAOMRN OMR GNBINSW BN STU LRNAFSOAFR HBNE CTLRN XBGUNAIMO DSH:\n",
      "OMSO AJ OB JSU, S HBNE XBTOSATATI OMR GNBINSW BN S GBNOABT BZ AO,\n",
      "RAOMRN FRNPSOAW BN HAOM WBLAZAXSOABTJ STL/BN ONSTJDSORL ATOB STBOMRN\n",
      "DSTICSIR. (MRNRATSZORN, ONSTJDSOABT AJ ATXDCLRL HAOMBCO DAWAOSOABT AT\n",
      "OMR ORNW \"WBLAZAXSOABT\".) RSXM DAXRTJRR AJ SLLNRJJRL SJ \"UBC\".\n"
     ]
    }
   ],
   "source": [
    "alphabet = [chr(x) for x in range(ord('A'), ord('Z') + 1)]\n",
    "decrypt_alphabet = list(\"SPXLRZIMAYEDWTBGVNJOCFHQUK\")\n",
    "\n",
    "with open('decrypted.txt','r') as decrypted:\n",
    "    output = \"\"\n",
    "    while True:\n",
    "        letter = decrypted.read(1)\n",
    "        if letter == '':\n",
    "            break\n",
    "        if ord(letter) in range(ord('A'), ord('Z') + 1):\n",
    "            output += decrypt_alphabet[alphabet.index(letter)]\n",
    "        else:\n",
    "            output += letter\n",
    "\n",
    "print(output)\n",
    "# output_file = open('decrypted-encrypted.txt','w')\n",
    "# output_file.write(output)\n",
    "# output_file.close()"
   ]
  },
  {
   "cell_type": "code",
   "execution_count": 2,
   "id": "e87534b0-8503-4973-a827-e36a47492606",
   "metadata": {},
   "outputs": [
    {
     "name": "stdout",
     "output_type": "stream",
     "text": [
      "ACTIVITIES OTHER THAN COPYING, DISTRIBUTION AND MODIFICATION ARE NOT\n",
      "COVERED BY THIS LICENSE; THEY ARE OUTSIDE ITS SCOPE. THE ACT OF\n",
      "RUNNING THE PROGRAM IS NOT RESTRICTED, AND THE OUTPUT FROM THE PROGRAM\n",
      "IS COVERED ONLY IF ITS CONTENTS CONSTITUTE A WORK BASED ON THE\n",
      "PROGRAM (INDEPENDENT OF HAVING BEEN MADE BY RUNNING THE PROGRAM).\n",
      "WHETHER THAT IS TRUE DEPENDS ON WHAT THE PROGRAM DOES.\n"
     ]
    }
   ],
   "source": [
    "alphabet = [chr(x) for x in range(ord('A'), ord('Z') + 1)]\n",
    "decrypt_alphabet = list(\"SPXLRZIMAYEDWTBGVNJOCFHQUK\")\n",
    "\n",
    "with open('encrypted.txt','r')  as encrypted:# расшифровать\n",
    "    output = \"\"\n",
    "    while True:\n",
    "        letter = encrypted.read(1)\n",
    "        if letter == '':\n",
    "            break\n",
    "        if ord(letter) in range(ord('A'), ord('Z') + 1):\n",
    "            output += alphabet[decrypt_alphabet.index(letter)]\n",
    "        else:\n",
    "            output += letter\n",
    "            \n",
    "print(output)\n",
    "# output_file = open('encrypted-decrypted.txt','w')\n",
    "# output_file.write(output)\n",
    "# output_file.close()"
   ]
  },
  {
   "attachments": {
    "d039dc92-594d-417f-b2ba-82880a183739.png": {
     "image/png": "[encoded data removed]"
    }
   },
   "cell_type": "markdown",
   "id": "de8c459c-3bd2-429b-b555-e13079fdbcba",
   "metadata": {},
   "source": [
    "**Задание 2**\n",
    "\n",
    "Используя квадрат Полибия (шифр простой подстановки) составьте программу и с её помощью зашифруйте английское написание своего имени и фамилии, представьте шифротекст преподавателю.\n",
    "\n",
    "![image.png](attachment:d039dc92-594d-417f-b2ba-82880a183739.png)"
   ]
  },
  {
   "cell_type": "code",
   "execution_count": 3,
   "id": "6a06c1cf-1e70-4d2c-bb89-2b1867e3c4d8",
   "metadata": {},
   "outputs": [
    {
     "name": "stdout",
     "output_type": "stream",
     "text": [
      "25 24 43 15 31 54 34 51 60 14 11 33 24 24 31 \n"
     ]
    }
   ],
   "source": [
    "# Задание 2\n",
    "#alphabet = [[chr(x) for x in range(ord('A') + y * 5, ord('A') + (y + 1) * 5)] for y in range(5)]\n",
    "\n",
    "alphabet = [\n",
    "    ['A', 'B', 'C', 'D', 'E'],\n",
    "    ['F', 'G', 'H', 'I', 'K'],\n",
    "    ['L', 'M', 'N', 'O', 'P'],\n",
    "    ['Q', 'R', 'S', 'T', 'U'],\n",
    "    ['V', 'W', 'X', 'Y', 'Z']\n",
    "]\n",
    "name = \"Kiselyov Daniil\".upper().replace(\"J\", \"I\")\n",
    "encrypt_name = \"\"\n",
    "\n",
    "for letter in name: # проходимся по каждой букве в слове, которео надо зашифровать\n",
    "    index1 = 0\n",
    "    index2 = 0\n",
    "    for i in alphabet: # проходим по каждой строке нашего алфавита  \n",
    "        try:\n",
    "            index2 = i.index(letter) # проверяем, есть ли символ letter\n",
    "        except ValueError:\n",
    "            index2 = -1 \n",
    "        if index2 != -1: # если символ есть, то записываем поулченные числа в зашифрованную строку\n",
    "            break\n",
    "        index1 += 1 # если символа нет в строке, то переходим к следующей строке\n",
    "    encrypt_name += str(index1 + 1) + str(index2 + 1) + \" \" # запись зашифрованного символа (+1 тк, индексация в массивах с 0, а нам надо с 1)\n",
    "print(encrypt_name)"
   ]
  },
  {
   "cell_type": "code",
   "execution_count": 4,
   "id": "44614662-fb83-469d-96c2-59749ef7f928",
   "metadata": {},
   "outputs": [
    {
     "name": "stdout",
     "output_type": "stream",
     "text": [
      "ILIKETOSWIMVERYMUCH\n"
     ]
    }
   ],
   "source": [
    "encrypt = \"24 31 24 25 15 44 34 43 52 24 32 51 15 42 54 32 45 13 23\"\n",
    "encrypt = encrypt.split()\n",
    "\n",
    "decrypted = \"\"\n",
    "for number in encrypt: # дешифровка, просто делим число на 2 индекса массива\n",
    "    index1 = int(number[0])\n",
    "    index2 = int(number[1])\n",
    "    \n",
    "    decrypted += str(alphabet[index1-1][index2-1]) # -1 тк, индексация в строке с 1, а нам надо с 0, тк это массив\n",
    "\n",
    "print(decrypted)"
   ]
  },
  {
   "cell_type": "markdown",
   "id": "896c4186-e11e-42f4-b2b8-51e67a726b27",
   "metadata": {},
   "source": [
    "**Задание 3.**\n",
    "\n",
    "Методом полиалфавитной подстановки, используя таблицу Вижинера, зашифруйте и держите в тайне имя и отчество одного из своих родителей (лучше своей матери). В качестве ключа используйте свою фамилию. Полученный шифротекст передайте соседу и сообщите ему только ключ, если сосед не знает Вашей фамилии. Получив шифтротекст и ключ соседа, расшифруйте текст с использованием той же таблицы Вижинера."
   ]
  },
  {
   "cell_type": "code",
   "execution_count": 7,
   "id": "adfd8c0b-700e-412c-bc37-d629aeece4fd",
   "metadata": {},
   "outputs": [
    {
     "name": "stdout",
     "output_type": "stream",
     "text": [
      "йдгс ойбпсжнэ\n",
      "иван иванович\n"
     ]
    }
   ],
   "source": [
    "alphabet = [chr(x) for x in range(ord('а'), ord('я') + 1)]\n",
    "viginer = lambda i: alphabet[i:] + alphabet[:i] # функция поиска строки схемы вижинера\n",
    "\n",
    "key = \"Киселев\".lower()\n",
    "\n",
    "decrypted = \"Иван Иванович\".lower()\n",
    "encrypted = \"\"\n",
    "\n",
    "for letter in range(len(decrypted)):\n",
    "    text = decrypted[letter]\n",
    "    if text not in alphabet: # проверям, можем ли мы зашифровать символ, если нет, то прост оего записываем в шифр\n",
    "        encrypted += \" \"\n",
    "        continue\n",
    "    index = alphabet.index(text) # находим индекс символа в алфавите\n",
    "    index_line = (letter % len(key)) + 1 # находим индекс линии в схеме\n",
    "    schema = viginer(index_line) # генерируем нужную линию\n",
    "    encrypted += schema[index] # добавляем шифрованный символ\n",
    "\n",
    "print(encrypted)\n",
    "decrypted_1 = \"\"\n",
    "\n",
    "for letter in range(len(encrypted)):\n",
    "    text = encrypted[letter]\n",
    "    if text not in alphabet:\n",
    "        decrypted_1 += \" \"\n",
    "        continue\n",
    "    index_line = (letter % len(key)) + 1 # находим индекс линии в схеме\n",
    "    schema = viginer(index_line) # генерируем нужную линию\n",
    "    index = schema.index(text) # находим индекс символа в алфавите\n",
    "    decrypted_1 += alphabet[index] # добавляем дешифрованный символ\n",
    "\n",
    "print(decrypted_1)"
   ]
  },
  {
   "cell_type": "code",
   "execution_count": null,
   "id": "c8e715af-78c5-45a5-869f-de8fa59d4c06",
   "metadata": {},
   "outputs": [],
   "source": []
  }
 ],
 "metadata": {
  "kernelspec": {
   "display_name": "Python 3 (ipykernel)",
   "language": "python",
   "name": "python3"
  },
  "language_info": {
   "codemirror_mode": {
    "name": "ipython",
    "version": 3
   },
   "file_extension": ".py",
   "mimetype": "text/x-python",
   "name": "python",
   "nbconvert_exporter": "python",
   "pygments_lexer": "ipython3",
   "version": "3.8.8"
  }
 },
 "nbformat": 4,
 "nbformat_minor": 5
}
