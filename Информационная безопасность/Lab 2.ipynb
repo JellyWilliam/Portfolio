{
 "cells": [
  {
   "cell_type": "markdown",
   "id": "16a4d397-3a34-45a8-b503-d459a9679621",
   "metadata": {},
   "source": [
    "**Задание 1.**\n",
    "\n",
    "Создайте программу, производящую чтение данных из текстового файла и подсчитывающую частоту встречаемости каждого символа в тексте. Желательно организовать сортировку символов текста по алфавиту и сортировку символов по частоте их встречаемости."
   ]
  },
  {
   "cell_type": "code",
   "execution_count": 2,
   "id": "d7a239f5-a19d-47c9-8afb-5626da65bdd8",
   "metadata": {},
   "outputs": [
    {
     "name": "stdout",
     "output_type": "stream",
     "text": [
      "Символ ' ' встречается - 178 раз. Частота: 0.10873549175320708\n",
      "Символ 'о' встречается - 153 раз. Частота: 0.09346365302382406\n",
      "Символ 'и' встречается - 137 раз. Частота: 0.08368967623701894\n",
      "Символ 'н' встречается - 121 раз. Частота: 0.07391569945021381\n",
      "Символ 'а' встречается - 114 раз. Частота: 0.06963958460598656\n",
      "Символ 'т' встречается - 105 раз. Частота: 0.06414172266340867\n",
      "Символ 'е' встречается - 97 раз. Частота: 0.05925473427000611\n",
      "Символ 'с' встречается - 82 раз. Частота: 0.0500916310323763\n",
      "Символ 'р' встречается - 73 раз. Частота: 0.04459376908979841\n",
      "Символ 'в' встречается - 56 раз. Частота: 0.03420891875381796\n",
      "Символ 'л' встречается - 41 раз. Частота: 0.02504581551618815\n",
      "Символ 'п' встречается - 40 раз. Частота: 0.02443494196701283\n",
      "Символ 'д' встречается - 36 раз. Частота: 0.021991447770311544\n",
      "Символ 'м' встречается - 35 раз. Частота: 0.021380574221136223\n",
      "Символ 'я' встречается - 34 раз. Частота: 0.020769700671960906\n",
      "Символ 'к' встречается - 34 раз. Частота: 0.020769700671960906\n",
      "Символ 'з' встречается - 28 раз. Частота: 0.01710445937690898\n",
      "Символ ',' встречается - 28 раз. Частота: 0.01710445937690898\n",
      "Символ 'у' встречается - 25 раз. Частота: 0.015271838729383017\n",
      "Символ 'ь' встречается - 21 раз. Частота: 0.012828344532681736\n",
      "Символ 'ы' встречается - 21 раз. Частота: 0.012828344532681736\n",
      "Символ 'б' встречается - 18 раз. Частота: 0.010995723885155772\n",
      "Символ 'г' встречается - 17 раз. Частота: 0.010384850335980453\n",
      "Символ 'ц' встречается - 16 раз. Частота: 0.009773976786805132\n",
      "Символ 'ф' встречается - 13 раз. Частота: 0.00794135613927917\n",
      "Символ 'ч' встречается - 13 раз. Частота: 0.00794135613927917\n",
      "Символ 'х' встречается - 11 раз. Частота: 0.006719609040928528\n",
      "Символ '.' встречается - 10 раз. Частота: 0.006108735491753207\n",
      "Символ 'й' встречается - 10 раз. Частота: 0.006108735491753207\n",
      "Символ 'ж' встречается - 8 раз. Частота: 0.004886988393402566\n",
      "Символ 'ю' встречается - 6 раз. Частота: 0.0036652412950519244\n",
      "Символ 'щ' встречается - 5 раз. Частота: 0.0030543677458766036\n",
      "Символ 'э' встречается - 5 раз. Частота: 0.0030543677458766036\n",
      "Символ 'Э' встречается - 4 раз. Частота: 0.002443494196701283\n",
      "Символ 'n' встречается - 3 раз. Частота: 0.0018326206475259622\n",
      "Символ 'o' встречается - 3 раз. Частота: 0.0018326206475259622\n",
      "Символ '—' встречается - 3 раз. Частота: 0.0018326206475259622\n",
      "Символ 'ш' встречается - 3 раз. Частота: 0.0018326206475259622\n",
      "Символ '(' встречается - 2 раз. Частота: 0.0012217470983506415\n",
      "Символ 'I' встречается - 2 раз. Частота: 0.0012217470983506415\n",
      "Символ 'f' встречается - 2 раз. Частота: 0.0012217470983506415\n",
      "Символ 'r' встречается - 2 раз. Частота: 0.0012217470983506415\n",
      "Символ 't' встречается - 2 раз. Частота: 0.0012217470983506415\n",
      "Символ 'i' встречается - 2 раз. Частота: 0.0012217470983506415\n",
      "Символ 'S' встречается - 2 раз. Частота: 0.0012217470983506415\n",
      "Символ 'e' встречается - 2 раз. Частота: 0.0012217470983506415\n",
      "Символ 'c' встречается - 2 раз. Частота: 0.0012217470983506415\n",
      "Символ ')' встречается - 2 раз. Частота: 0.0012217470983506415\n",
      "Символ 'О' встречается - 2 раз. Частота: 0.0012217470983506415\n",
      "Символ 'И' встречается - 1 раз. Частота: 0.0006108735491753207\n",
      "Символ 'm' встречается - 1 раз. Частота: 0.0006108735491753207\n",
      "Символ 'a' встречается - 1 раз. Частота: 0.0006108735491753207\n",
      "Символ 'u' встречается - 1 раз. Частота: 0.0006108735491753207\n",
      "Символ 'y' встречается - 1 раз. Частота: 0.0006108735491753207\n",
      "Символ 'ё' встречается - 1 раз. Частота: 0.0006108735491753207\n",
      "Символ '-' встречается - 1 раз. Частота: 0.0006108735491753207\n",
      "Символ 'Д' встречается - 1 раз. Частота: 0.0006108735491753207\n"
     ]
    }
   ],
   "source": [
    "def frequency_of_occurrence_of_each_character(doc : str, sort=0, rev=False):\n",
    "    with open(doc, encoding='utf-8') as doc:\n",
    "        input_str = doc.read() # записываем все из файла\n",
    "\n",
    "    mas_symb = []\n",
    "    mas_rep_sym = []\n",
    "    \n",
    "    summ = 0\n",
    "    for letter in input_str.replace(\"\\n\", \"\"): # идем по каждому символу файла, при этом заменив перевод каретки на пустой символ\n",
    "        if letter not in mas_symb: # првоеряем уникальность символа\n",
    "            mas_symb.append(letter) # добавляем сам символ\n",
    "            summ += input_str.count(letter) # счиатем общее количество символов\n",
    "            mas_rep_sym.append(input_str.count(letter)) # записываем количество повторений символа\n",
    "\n",
    "    dict_mas = {}\n",
    "    for i in range(len(mas_symb)):\n",
    "        dict_mas[mas_symb[i]] = mas_rep_sym[i] # формируем массив вида {символ: количество повторений}\n",
    "\n",
    "    sort_type = sort #= 0 по алфавиту\n",
    "    # sort_type = 1 # по частоте\n",
    "    \n",
    "    # сортируем словарь по заданным параметрам\n",
    "    sorted_tuple = dict(sorted(dict_mas.items(), key=lambda x: x[sort_type], reverse=rev)) # по возрастанию, reverse=True - по убыванию \n",
    "    return sorted_tuple, summ\n",
    "\n",
    "sorted_tuple, summ = frequency_of_occurrence_of_each_character(doc=\"text.txt\", sort=1, rev=True)\n",
    "A = 0\n",
    "for key, value in sorted_tuple.items():\n",
    "    print(f\"Символ '{key}' встречается - {value} раз. Частота: {value/summ}\")"
   ]
  },
  {
   "cell_type": "markdown",
   "id": "b8b2e303-8685-4578-8866-e6ecc999cfda",
   "metadata": {},
   "source": [
    "**Задание 2.**\n",
    "\n",
    "Зная, что предлагаемый зашифрованный простой заменой текстовый файл содержит русскоязычный текст, определите таблицу замены, используя для этого таблицу частоты встречаемости русских букв."
   ]
  },
  {
   "cell_type": "code",
   "execution_count": 3,
   "id": "e2cc5599-7fdb-4723-b462-3fe911e86fdd",
   "metadata": {},
   "outputs": [
    {
     "name": "stdout",
     "output_type": "stream",
     "text": [
      "100.82999800000002\n"
     ]
    },
    {
     "data": {
      "text/plain": [
       "{'Ы': ' ',\n",
       " 'У': 'A',\n",
       " 'Ж': 'И',\n",
       " 'К': 'О',\n",
       " 'Ъ': 'Е',\n",
       " 'Е': 'К',\n",
       " 'Ь': 'Л',\n",
       " 'Ц': 'Р',\n",
       " 'Ю': 'Т',\n",
       " 'И': 'М',\n",
       " 'Й': 'С',\n",
       " 'Р': 'Н',\n",
       " 'О': 'У',\n",
       " 'С': 'В',\n",
       " 'Ф': ',',\n",
       " 'Т': 'Д',\n",
       " 'Л': '.',\n",
       " 'Д': 'П',\n",
       " 'Ч': 'Я',\n",
       " 'Ш': 'З',\n",
       " 'Щ': 'Г',\n",
       " 'Х': 'Б',\n",
       " 'Я': 'Ы',\n",
       " 'Б': 'Ч',\n",
       " 'З': 'Ш',\n",
       " 'В': 'Ж',\n",
       " 'А': 'Ю',\n",
       " 'М': 'Ь',\n",
       " 'Г': 'Х',\n",
       " 'Н': 'Й',\n",
       " 'П': 'Ц'}"
      ]
     },
     "execution_count": 3,
     "metadata": {},
     "output_type": "execute_result"
    }
   ],
   "source": [
    "frequency_of_occurrence = {\n",
    "    \"A\" : 8.886972,\n",
    "    \"Б\" : 1.466782,\n",
    "    \"В\" : 2.933563,\n",
    "    \"Г\" : 1.553063,\n",
    "    \"Д\" : 2.329594,\n",
    "    \"Е\" : 5.090595,\n",
    "    \"Ж\" : 0.862813,\n",
    "    \"З\" : 1.639344,\n",
    "    \"И\" : 8.369284,\n",
    "    \"Й\" : 0.431406,\n",
    "    \"К\" : 3.796376,\n",
    "    \"Л\" : 3.710095,\n",
    "    \"М\" : 3.623814,\n",
    "    \"Н\" : 3.192407,\n",
    "    \"О\" : 6.471096,\n",
    "    \"П\" : 2.243313,\n",
    "    \"Р\" : 3.710095,\n",
    "    \"С\" : 3.36497,\n",
    "    \"Т\" : 3.710095,\n",
    "    \"У\" : 3.106126,\n",
    "    \"Ф\" : 0.200000,\n",
    "    \"Х\" : 0.517688,\n",
    "    \"Ц\" : 0.300000,\n",
    "    \"Ч\" : 1.121657,\n",
    "    \"Ш\" : 1.035375,\n",
    "    \"Щ\" : 0.258844,\n",
    "    \"Ъ\" : 0.100000,\n",
    "    \"Ы\" : 1.466782,\n",
    "    \"Ь\" : 0.69025,\n",
    "    \"Э\" : 0.230000,\n",
    "    \"Ю\" : 0.776531,\n",
    "    \"Я\" : 1.898188,\n",
    "    \" \" : 16.99741,\n",
    "    \".\" : 2.329594,\n",
    "    \",\" : 2.415876\n",
    "}\n",
    "\n",
    "sorted_frequency_of_occurrence = dict(sorted(frequency_of_occurrence.items(), key=lambda x: x[1], reverse=True)) # сортируем словарь частоты букв по убыванию частоты\n",
    "summ_1 = sum(sorted_frequency_of_occurrence.values()) # сумма частоты всех символов\n",
    "\n",
    "sorted_tuple, summ_2 = frequency_of_occurrence_of_each_character(doc=\"pluginfile.txt\", sort=1, rev=True) # записываем статистику частоыт символов по входному файлу\n",
    "\n",
    "acc_1 = []\n",
    "for key, value in sorted_frequency_of_occurrence.items(): # массив с % всех символов \n",
    "    acc_1.append(value/summ_1)\n",
    "    # sorted_frequency_of_occurrence[key] = [value, value/summ_1]\n",
    "\n",
    "acc_2 = []\n",
    "for key, value in sorted_tuple.items(): # массив с % всех символов \n",
    "    acc_2.append(value/summ_2)\n",
    "    # sorted_tuple[key] = [value, value/summ_2]\n",
    "    \n",
    "# shema = { list(sorted_tuple)[x] : list(sorted_frequency_of_occurrence)[x] for x in range(len(list(sorted_tuple.keys())))}\n",
    "shema = {}\n",
    "a = 0.01 # погрешность\n",
    "for i in range(len(sorted_tuple.keys())):\n",
    "    if (acc_2[i] <= (acc_1[i] + a)) and (acc_2[i] >= (acc_1[i] - a)): # подбираем символ, учитывая погрешность\n",
    "        shema[list(sorted_tuple.keys())[i]] = list(sorted_frequency_of_occurrence.keys())[i] # формируем схему\n",
    "\n",
    "shema"
   ]
  },
  {
   "cell_type": "markdown",
   "id": "943f09cb-e30f-4485-a483-ebc6d2efc77e",
   "metadata": {},
   "source": [
    "**Задание 3.**\n",
    "\n",
    "Создайте программу расшифровки шифротекста в предложенном файле по составленной в задании 2. таблице замены."
   ]
  },
  {
   "cell_type": "code",
   "execution_count": 30,
   "id": "36737284-2394-4513-8583-e4af9cd582f2",
   "metadata": {},
   "outputs": [
    {
     "name": "stdout",
     "output_type": "stream",
     "text": [
      "ЕЙAЛИ МЕДВЕДИ НA ВЕЛОСИПЕДЕ. A ЗA НИМИ КОР ЗAДОМ НAПЕТЕД. A ЗA НИМ КОМAТИКИ НA ВОЗДУЖНОМ ЖAТИКЕ. A ЗA НИМИ ТAКИ НA ЙТОМОЧ СОБAКЕ. ВОЛКИ НA КОБЫЛЕ. ЛХВЫ В AВРОМОБИЛЕ. ЗAЧШИКИ В РТAМВAЧШИКЕ. ЮAБA НA МЕРЛЕ. ЕДУР И СМЕЬРСЯ, ПТЯНИКИ ЮУЬР. ВДТУГ ИЗ ПОДВОТОРНИ СРТAЖНЫЧ ВЕЛИКAН, ТЫЮИЧ И УСAРЫЧ РAТAКAН. РAТAКAН, РAТAКAН, РAТAКAНИЦЕ. ОН ТЫШИР, И КТИШИР, И УСAМИ ЖЕВИЛИР. ПОГОДИРЕ, НЕ СПЕЖИРЕ, Я ВAС МИГОМ ПТОГЛОШУ. ПТОГЛОШУ, ПТОГЛОШУ, НЕ ПОМИЛУЬ. ЗВЕТИ ЗAДТОЮAЛИ, В ОБМОТОК УПAЛИ. ВОЛКИ ОР ИСПУГA СКУЖAЛИ ДТУГ ДТУГA. БЕДНЫЧ КТОКОДИЛ ЮAБУ ПТОГЛОРИЛ. A СЛОНИЙA, ВСЯ ДТОЮA, РAК И СЕЛA НA ЕЮA. РОЛХКО ТAКИ ЗAБИЯКИ НЕ БОЯРСЯ БОЬ ДТAКИ. ЙОРХ И ПЯРЯРСЯ НAЗAД, НО УСAМИ ЖЕВЕЛЯР И КТИШAР ВЕЛИКAНУ УСAРОМУ, НЕ КТИШИ И НЕ ТЫШИ, МЫ И СAМИ С УСAМИ, МОЮЕМ МЫ И СAМИ ЖЕВЕЛИРХ УСAМИ. И НAЗAД ЕЦЕ ДAЛХЖЕ ПОПЯРИЛИСХ. И СКAЗAЛ ГИППОПОРAМ КТОКОДИЛAМ И КИРAМ, КРО ЗЛОДЕЯ НЕ БОИРСЯ И С ШУДОВИЦЕМ СТAЗИРСЯ Я РОМУ БОГAРЫТЬ ДВУЙ ЛЯГУЖЕК ПОДAТЬ И ЕЛОВУЬ ЖИЖКУ ПОЮAЛУЬ. НЕ БОИМСЯ МЫ ЕГО, ВЕЛИКAНA РВОЕГО. МЫ ЗУБAМИ, МЫ КЛЫКAМИ, МЫ КОПЫРAМИ ЕГО. В ВЕСЕЛОЬ ГУТХБОЧ ЗВЕТИ КИНУЛИСЯ В БОЧ, НО УВИДЕВ УСAШA, AЧ AЧ AЧ, ЗВЕТИ ДAЛИ СРТЕКAШA, AЧ, AЧ, AЧ. ПО ЛЕСAМ, ПО ПОЛЯМ ТAЗБЕЮAЛИСЯ. РAТAКAНХИЙ УСОВ ИСПУГAЛИСЯ.\n"
     ]
    }
   ],
   "source": [
    "with open(\"pluginfile.txt\", encoding='utf-8') as doc:\n",
    "    input_str = doc.read()\n",
    "\n",
    "decrypted = \"\"\n",
    "for letter in input_str:\n",
    "    decrypted += shema[letter]\n",
    "\n",
    "print(decrypted)"
   ]
  },
  {
   "attachments": {
    "3aefecaf-2579-44c7-9200-b524ac1ebf35.png": {
     "image/png": "[encoded data removed]"
    }
   },
   "cell_type": "markdown",
   "id": "ea1fba09-2cd3-4b71-b88c-509ab4821bb9",
   "metadata": {},
   "source": [
    "**Задание 4.**\n",
    "\n",
    "Шифрование текста было выполнено методом перестановки. Исходный текст вписывался в таблицу 15x15 по столбцам, а строки этой таблицы были разбиты на слова по 5 символов и составили данный шифротекст. Расшифруйте исходный текст, представленный шифротекстом.\n",
    "\n",
    "![image.png](attachment:3aefecaf-2579-44c7-9200-b524ac1ebf35.png)"
   ]
  },
  {
   "cell_type": "code",
   "execution_count": 62,
   "id": "af56e9ed-5d3e-49cf-8f14-3d5d289cf3ed",
   "metadata": {},
   "outputs": [
    {
     "name": "stdout",
     "output_type": "stream",
     "text": [
      "НАЯЗЫКЕPASCALСОСТАВЬТЕПРОГРАММУПОДСЧЕТАСРЕДНЕЙЧАСТОТЫВСТРЕЧАЕМОСТИКАЖДОГОСИМВОЛАОТСОРТИРУЙТЕЭТИСИМВОЛЫВПОРЯДКЕУБЫЛИИХЧАСТОТЫВСТРЕЧАЕМОСТИИВЫВЕДИТЕВТЕКСТОВЫЙФАЙЛПРИЧЕМИСХОДНЫЙТЕКСТСООБЩЕНИЯТАКЖЕХРАНИТСЯВТЕКСТОВОМФАЙЛЕЕКЛМНОПРС\n"
     ]
    }
   ],
   "source": [
    "encrypted = [\n",
    "    \"НСУЙЕ\", \"МТРТТ\", \"СМОАМ\", \"АТПЧМ\", \"ВЕЯОИ\", \"ТИОНФ\", \"ЯАОАО\",\n",
    "    \"ОЭДТИ\", \"ОСБИА\", \"ЗВДСС\", \"ЛТКЫВ\", \"ВХЩТЙ\", \"ЫЬСТТ\", \"АИЕВЫ\",\n",
    "    \"ЫОЕСЛ\", \"КТЧОИ\", \"ОСУСВ\", \"ЙДНЯЕ\", \"ЕЕЕТК\", \"ТИБТЕ\", \"ФНИВЕ\",\n",
    "    \"PПТЫА\", \"СМЫРД\", \"АЫЯТК\", \"AРАВЖ\", \"ОВЛЕИ\", \"ЙЙТЕЛ\", \"SОССД\",\n",
    "    \"РОИЧТ\", \"ЛТАКМ\", \"CГРТО\", \"ТЛИАЕ\", \"ПЕКСН\", \"AРЕРГ\", \"ИЫХЕВ\",\n",
    "    \"РКЖТО\", \"LАДЕО\", \"РВЧМТ\", \"ИСЕОП\", \"СМНЧС\", \"УПАОЕ\", \"ЧТХВР\",\n",
    "    \"ОМЕАИ\", \"ЙОССК\", \"ЕСРОС\"\n",
    "]\n",
    "\n",
    "decrypted = [[\"\" for _ in range(5)] for _ in range(3)]\n",
    "\n",
    "for i in range(len(encrypted)):\n",
    "    if i%3 == 0:\n",
    "        decrypted[0][0] += encrypted[i][0]\n",
    "        decrypted[0][1] += encrypted[i][1]\n",
    "        decrypted[0][2] += encrypted[i][2]\n",
    "        decrypted[0][3] += encrypted[i][3]\n",
    "        decrypted[0][4] += encrypted[i][4]\n",
    "    if i%3 == 1:\n",
    "        decrypted[1][0] += encrypted[i][0]\n",
    "        decrypted[1][1] += encrypted[i][1]\n",
    "        decrypted[1][2] += encrypted[i][2]\n",
    "        decrypted[1][3] += encrypted[i][3]\n",
    "        decrypted[1][4] += encrypted[i][4]\n",
    "    if i%3 == 2:\n",
    "        decrypted[2][0] += encrypted[i][0]\n",
    "        decrypted[2][1] += encrypted[i][1]\n",
    "        decrypted[2][2] += encrypted[i][2]\n",
    "        decrypted[2][3] += encrypted[i][3]\n",
    "        decrypted[2][4] += encrypted[i][4]\n",
    "\n",
    "decrypted_str = \"\"\n",
    "for el in decrypted:\n",
    "    for word in el:\n",
    "        decrypted_str += word\n",
    "print(decrypted_str)"
   ]
  },
  {
   "cell_type": "code",
   "execution_count": null,
   "id": "a6bbef5a-62b5-465c-849e-585e1bd1569d",
   "metadata": {},
   "outputs": [],
   "source": []
  }
 ],
 "metadata": {
  "kernelspec": {
   "display_name": "Python 3 (ipykernel)",
   "language": "python",
   "name": "python3"
  },
  "language_info": {
   "codemirror_mode": {
    "name": "ipython",
    "version": 3
   },
   "file_extension": ".py",
   "mimetype": "text/x-python",
   "name": "python",
   "nbconvert_exporter": "python",
   "pygments_lexer": "ipython3",
   "version": "3.8.8"
  }
 },
 "nbformat": 4,
 "nbformat_minor": 5
}
