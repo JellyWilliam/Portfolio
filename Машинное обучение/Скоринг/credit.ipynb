{
 "cells": [
  {
   "cell_type": "code",
   "execution_count": 1,
   "id": "3796a8dc-ba4b-40eb-aa9d-0f2eb26681ca",
   "metadata": {},
   "outputs": [],
   "source": [
    "import pandas as pd\n",
    "import numpy as np"
   ]
  },
  {
   "cell_type": "code",
   "execution_count": 2,
   "id": "7a73257a-2a24-4225-9d69-d7d8eea2d891",
   "metadata": {},
   "outputs": [],
   "source": [
    "dataset = pd.read_csv(\"credit_train.csv\")"
   ]
  },
  {
   "cell_type": "code",
   "execution_count": 3,
   "id": "b4e0a592-03e3-4d49-a291-27ca1220c099",
   "metadata": {},
   "outputs": [
    {
     "name": "stdout",
     "output_type": "stream",
     "text": [
      "                  Gender   Own_car  Own_property  Work_phone     Phone  \\\n",
      "Gender          1.000000  0.370909     -0.059527    0.064589 -0.018928   \n",
      "Own_car         0.370909  1.000000     -0.014759    0.032819  0.012867   \n",
      "Own_property   -0.059527 -0.014759      1.000000   -0.195787 -0.049429   \n",
      "Work_phone      0.064589  0.032819     -0.195787    1.000000  0.278749   \n",
      "Phone          -0.018928  0.012867     -0.049429    0.278749  1.000000   \n",
      "Email           0.002085  0.013726      0.058535   -0.040322  0.012881   \n",
      "Unemployed     -0.165863 -0.141824      0.096055   -0.241463 -0.002168   \n",
      "Num_children    0.052749  0.092994     -0.007515    0.057026 -0.023793   \n",
      "Num_family      0.077156  0.137278     -0.001529    0.068694 -0.013760   \n",
      "Account_length -0.006500  0.027380     -0.003275    0.006799  0.015533   \n",
      "Total_income    0.195058  0.227127      0.018070   -0.031986  0.025089   \n",
      "Age            -0.174751 -0.131240      0.145752   -0.177178  0.040721   \n",
      "Years_employed -0.039609  0.009837     -0.024463    0.112419  0.049487   \n",
      "Target          0.002604 -0.006647     -0.029500   -0.013935 -0.018236   \n",
      "\n",
      "                   Email  Unemployed  Num_children  Num_family  \\\n",
      "Gender          0.002085   -0.165863      0.052749    0.077156   \n",
      "Own_car         0.013726   -0.141824      0.092994    0.137278   \n",
      "Own_property    0.058535    0.096055     -0.007515   -0.001529   \n",
      "Work_phone     -0.040322   -0.241463      0.057026    0.068694   \n",
      "Phone           0.012881   -0.002168     -0.023793   -0.013760   \n",
      "Email           1.000000   -0.084887      0.010834    0.004846   \n",
      "Unemployed     -0.084887    1.000000     -0.224090   -0.209402   \n",
      "Num_children    0.010834   -0.224090      1.000000    0.890518   \n",
      "Num_family      0.004846   -0.209402      0.890518    1.000000   \n",
      "Account_length -0.029721    0.000827     -0.013593    0.013144   \n",
      "Total_income    0.095170   -0.163701      0.027764    0.025426   \n",
      "Age            -0.104776    0.616254     -0.324332   -0.277356   \n",
      "Years_employed -0.004666   -0.408948      0.037260    0.049306   \n",
      "Target          0.001183   -0.014832      0.007527    0.006333   \n",
      "\n",
      "                Account_length  Total_income       Age  Years_employed  \\\n",
      "Gender               -0.006500      0.195058 -0.174751       -0.039609   \n",
      "Own_car               0.027380      0.227127 -0.131240        0.009837   \n",
      "Own_property         -0.003275      0.018070  0.145752       -0.024463   \n",
      "Work_phone            0.006799     -0.031986 -0.177178        0.112419   \n",
      "Phone                 0.015533      0.025089  0.040721        0.049487   \n",
      "Email                -0.029721      0.095170 -0.104776       -0.004666   \n",
      "Unemployed            0.000827     -0.163701  0.616254       -0.408948   \n",
      "Num_children         -0.013593      0.027764 -0.324332        0.037260   \n",
      "Num_family            0.013144      0.025426 -0.277356        0.049306   \n",
      "Account_length        1.000000      0.015790  0.094186        0.088487   \n",
      "Total_income          0.015790      1.000000 -0.065105        0.088737   \n",
      "Age                   0.094186     -0.065105  1.000000       -0.010517   \n",
      "Years_employed        0.088487      0.088737 -0.010517        1.000000   \n",
      "Target                0.075659      0.013814 -0.033147       -0.010949   \n",
      "\n",
      "                  Target  \n",
      "Gender          0.002604  \n",
      "Own_car        -0.006647  \n",
      "Own_property   -0.029500  \n",
      "Work_phone     -0.013935  \n",
      "Phone          -0.018236  \n",
      "Email           0.001183  \n",
      "Unemployed     -0.014832  \n",
      "Num_children    0.007527  \n",
      "Num_family      0.006333  \n",
      "Account_length  0.075659  \n",
      "Total_income    0.013814  \n",
      "Age            -0.033147  \n",
      "Years_employed -0.010949  \n",
      "Target          1.000000  \n"
     ]
    }
   ],
   "source": [
    "numeric_col = ['Gender', 'Own_car', 'Own_property', 'Work_phone', 'Phone', 'Email', 'Unemployed', 'Num_children', 'Num_family', 'Account_length', 'Total_income', 'Age', 'Years_employed', 'Income_type', 'Education_type', 'Family_status', 'Housing_type', 'Occupation_type', 'Target']\n",
    "corr = dataset.loc[:,numeric_col].corr()\n",
    "print(corr)"
   ]
  },
  {
   "cell_type": "code",
   "execution_count": 4,
   "id": "6c413680-298a-4800-9778-523f31799d22",
   "metadata": {},
   "outputs": [
    {
     "data": {
      "text/plain": [
       "(7767, 20)"
      ]
     },
     "execution_count": 4,
     "metadata": {},
     "output_type": "execute_result"
    }
   ],
   "source": [
    "dataset.shape"
   ]
  },
  {
   "cell_type": "code",
   "execution_count": 5,
   "id": "6540bb8a-dbac-4e53-bff8-7e13338f90da",
   "metadata": {},
   "outputs": [
    {
     "data": {
      "text/html": [
       "<div>\n",
       "<style scoped>\n",
       "    .dataframe tbody tr th:only-of-type {\n",
       "        vertical-align: middle;\n",
       "    }\n",
       "\n",
       "    .dataframe tbody tr th {\n",
       "        vertical-align: top;\n",
       "    }\n",
       "\n",
       "    .dataframe thead th {\n",
       "        text-align: right;\n",
       "    }\n",
       "</style>\n",
       "<table border=\"1\" class=\"dataframe\">\n",
       "  <thead>\n",
       "    <tr style=\"text-align: right;\">\n",
       "      <th></th>\n",
       "      <th>id</th>\n",
       "      <th>Gender</th>\n",
       "      <th>Own_car</th>\n",
       "      <th>Own_property</th>\n",
       "      <th>Work_phone</th>\n",
       "      <th>Phone</th>\n",
       "      <th>Email</th>\n",
       "      <th>Unemployed</th>\n",
       "      <th>Num_children</th>\n",
       "      <th>Num_family</th>\n",
       "      <th>Account_length</th>\n",
       "      <th>Total_income</th>\n",
       "      <th>Age</th>\n",
       "      <th>Years_employed</th>\n",
       "      <th>Income_type</th>\n",
       "      <th>Education_type</th>\n",
       "      <th>Family_status</th>\n",
       "      <th>Housing_type</th>\n",
       "      <th>Occupation_type</th>\n",
       "      <th>Target</th>\n",
       "    </tr>\n",
       "  </thead>\n",
       "  <tbody>\n",
       "    <tr>\n",
       "      <th>0</th>\n",
       "      <td>0</td>\n",
       "      <td>0</td>\n",
       "      <td>0</td>\n",
       "      <td>1</td>\n",
       "      <td>0</td>\n",
       "      <td>0</td>\n",
       "      <td>0</td>\n",
       "      <td>0</td>\n",
       "      <td>1</td>\n",
       "      <td>3</td>\n",
       "      <td>10</td>\n",
       "      <td>238500.0</td>\n",
       "      <td>33.731014</td>\n",
       "      <td>10.185014</td>\n",
       "      <td>Working</td>\n",
       "      <td>Secondary / secondary special</td>\n",
       "      <td>Married</td>\n",
       "      <td>House / apartment</td>\n",
       "      <td>Core staff</td>\n",
       "      <td>0</td>\n",
       "    </tr>\n",
       "    <tr>\n",
       "      <th>1</th>\n",
       "      <td>1</td>\n",
       "      <td>0</td>\n",
       "      <td>0</td>\n",
       "      <td>1</td>\n",
       "      <td>0</td>\n",
       "      <td>0</td>\n",
       "      <td>0</td>\n",
       "      <td>0</td>\n",
       "      <td>1</td>\n",
       "      <td>3</td>\n",
       "      <td>9</td>\n",
       "      <td>157500.0</td>\n",
       "      <td>43.149414</td>\n",
       "      <td>5.087031</td>\n",
       "      <td>Working</td>\n",
       "      <td>Secondary / secondary special</td>\n",
       "      <td>Married</td>\n",
       "      <td>Municipal apartment</td>\n",
       "      <td>Sales staff</td>\n",
       "      <td>1</td>\n",
       "    </tr>\n",
       "    <tr>\n",
       "      <th>2</th>\n",
       "      <td>2</td>\n",
       "      <td>0</td>\n",
       "      <td>0</td>\n",
       "      <td>1</td>\n",
       "      <td>0</td>\n",
       "      <td>0</td>\n",
       "      <td>1</td>\n",
       "      <td>1</td>\n",
       "      <td>0</td>\n",
       "      <td>1</td>\n",
       "      <td>11</td>\n",
       "      <td>67500.0</td>\n",
       "      <td>64.871969</td>\n",
       "      <td>0.000000</td>\n",
       "      <td>Pensioner</td>\n",
       "      <td>Higher education</td>\n",
       "      <td>Single / not married</td>\n",
       "      <td>Municipal apartment</td>\n",
       "      <td>Other</td>\n",
       "      <td>0</td>\n",
       "    </tr>\n",
       "    <tr>\n",
       "      <th>3</th>\n",
       "      <td>3</td>\n",
       "      <td>1</td>\n",
       "      <td>0</td>\n",
       "      <td>1</td>\n",
       "      <td>0</td>\n",
       "      <td>0</td>\n",
       "      <td>0</td>\n",
       "      <td>0</td>\n",
       "      <td>0</td>\n",
       "      <td>1</td>\n",
       "      <td>1</td>\n",
       "      <td>148500.0</td>\n",
       "      <td>32.359323</td>\n",
       "      <td>2.633867</td>\n",
       "      <td>Working</td>\n",
       "      <td>Secondary / secondary special</td>\n",
       "      <td>Single / not married</td>\n",
       "      <td>House / apartment</td>\n",
       "      <td>Laborers</td>\n",
       "      <td>0</td>\n",
       "    </tr>\n",
       "    <tr>\n",
       "      <th>4</th>\n",
       "      <td>4</td>\n",
       "      <td>1</td>\n",
       "      <td>1</td>\n",
       "      <td>1</td>\n",
       "      <td>0</td>\n",
       "      <td>0</td>\n",
       "      <td>0</td>\n",
       "      <td>0</td>\n",
       "      <td>0</td>\n",
       "      <td>2</td>\n",
       "      <td>48</td>\n",
       "      <td>225000.0</td>\n",
       "      <td>36.833063</td>\n",
       "      <td>11.173398</td>\n",
       "      <td>Commercial associate</td>\n",
       "      <td>Higher education</td>\n",
       "      <td>Married</td>\n",
       "      <td>House / apartment</td>\n",
       "      <td>Laborers</td>\n",
       "      <td>0</td>\n",
       "    </tr>\n",
       "  </tbody>\n",
       "</table>\n",
       "</div>"
      ],
      "text/plain": [
       "   id  Gender  Own_car  Own_property  Work_phone  Phone  Email  Unemployed  \\\n",
       "0   0       0        0             1           0      0      0           0   \n",
       "1   1       0        0             1           0      0      0           0   \n",
       "2   2       0        0             1           0      0      1           1   \n",
       "3   3       1        0             1           0      0      0           0   \n",
       "4   4       1        1             1           0      0      0           0   \n",
       "\n",
       "   Num_children  Num_family  Account_length  Total_income        Age  \\\n",
       "0             1           3              10      238500.0  33.731014   \n",
       "1             1           3               9      157500.0  43.149414   \n",
       "2             0           1              11       67500.0  64.871969   \n",
       "3             0           1               1      148500.0  32.359323   \n",
       "4             0           2              48      225000.0  36.833063   \n",
       "\n",
       "   Years_employed           Income_type                 Education_type  \\\n",
       "0       10.185014               Working  Secondary / secondary special   \n",
       "1        5.087031               Working  Secondary / secondary special   \n",
       "2        0.000000             Pensioner               Higher education   \n",
       "3        2.633867               Working  Secondary / secondary special   \n",
       "4       11.173398  Commercial associate               Higher education   \n",
       "\n",
       "          Family_status         Housing_type Occupation_type  Target  \n",
       "0               Married    House / apartment      Core staff       0  \n",
       "1               Married  Municipal apartment     Sales staff       1  \n",
       "2  Single / not married  Municipal apartment           Other       0  \n",
       "3  Single / not married    House / apartment        Laborers       0  \n",
       "4               Married    House / apartment        Laborers       0  "
      ]
     },
     "execution_count": 5,
     "metadata": {},
     "output_type": "execute_result"
    }
   ],
   "source": [
    "dataset.head()"
   ]
  },
  {
   "cell_type": "code",
   "execution_count": 6,
   "id": "04f6eca9-22c8-4464-be0e-71d5596f6012",
   "metadata": {},
   "outputs": [],
   "source": [
    "dataset['Income_type'], uniques_It = pd.factorize(dataset['Income_type'])\n",
    "dataset['Education_type'], uniques_Et = pd.factorize(dataset['Education_type'])\n",
    "dataset['Family_status'],uniques_Fs = pd.factorize(dataset['Family_status'])\n",
    "dataset['Housing_type'], uniques_Ht = pd.factorize(dataset['Housing_type'])\n",
    "dataset['Occupation_type'], uniques_Ot = pd.factorize(dataset['Occupation_type'])"
   ]
  },
  {
   "cell_type": "code",
   "execution_count": 7,
   "id": "a9bec80b-217e-4aaa-bdcf-fc1fb8f58615",
   "metadata": {},
   "outputs": [
    {
     "data": {
      "text/plain": [
       "Index(['Working', 'Pensioner', 'Commercial associate', 'State servant',\n",
       "       'Student'],\n",
       "      dtype='object')"
      ]
     },
     "execution_count": 7,
     "metadata": {},
     "output_type": "execute_result"
    }
   ],
   "source": [
    "uniques_It"
   ]
  },
  {
   "cell_type": "code",
   "execution_count": 8,
   "id": "4361b029-ccb1-4dce-a973-4fab6e49a5f8",
   "metadata": {},
   "outputs": [],
   "source": [
    "X = dataset.drop('Target', axis=1).drop('id', axis=1)\n",
    "y = dataset['Target']"
   ]
  },
  {
   "cell_type": "code",
   "execution_count": 9,
   "id": "5d7b4504-7151-48d7-97d6-6e41a1a34031",
   "metadata": {},
   "outputs": [],
   "source": [
    "from sklearn.model_selection import train_test_split\n",
    "X_train, X_test, y_train, y_test = train_test_split(X, y, test_size=0.20)"
   ]
  },
  {
   "cell_type": "code",
   "execution_count": 10,
   "id": "b4448445-fe41-4168-aae8-5363447e2285",
   "metadata": {},
   "outputs": [
    {
     "data": {
      "text/plain": [
       "DecisionTreeClassifier()"
      ]
     },
     "execution_count": 10,
     "metadata": {},
     "output_type": "execute_result"
    }
   ],
   "source": [
    "from sklearn.tree import DecisionTreeClassifier\n",
    "classifier = DecisionTreeClassifier()\n",
    "classifier.fit(X_train, y_train)"
   ]
  },
  {
   "cell_type": "code",
   "execution_count": 11,
   "id": "f1b29fde-3d75-418e-b15a-9c0e2aa8ee23",
   "metadata": {},
   "outputs": [],
   "source": [
    "y_pred = classifier.predict(X_test)"
   ]
  },
  {
   "cell_type": "code",
   "execution_count": 12,
   "id": "e2476613-3ef9-4c33-b14b-f0deabb426f4",
   "metadata": {},
   "outputs": [
    {
     "data": {
      "text/plain": [
       "0.7605182402479701"
      ]
     },
     "execution_count": 12,
     "metadata": {},
     "output_type": "execute_result"
    }
   ],
   "source": [
    "from sklearn.metrics import f1_score\n",
    "f1_score(y_test, y_pred, average='weighted')"
   ]
  },
  {
   "cell_type": "code",
   "execution_count": 13,
   "id": "a5093a5a-82d9-47fb-96a8-70505ec9d696",
   "metadata": {},
   "outputs": [
    {
     "data": {
      "text/plain": [
       "GridSearchCV(cv=3, estimator=DecisionTreeClassifier(),\n",
       "             param_grid={'max_depth': range(3, 10),\n",
       "                         'min_samples_leaf': range(1, 10),\n",
       "                         'min_samples_split': range(2, 10)},\n",
       "             scoring='neg_mean_absolute_error')"
      ]
     },
     "execution_count": 13,
     "metadata": {},
     "output_type": "execute_result"
    }
   ],
   "source": [
    "from sklearn.model_selection import GridSearchCV\n",
    "GSCV = GridSearchCV( classifier, {'max_depth': range(3,10), 'min_samples_leaf': range(1,10), 'min_samples_split': range(2, 10)}, cv = 3, scoring = 'neg_mean_absolute_error')\n",
    "GSCV.fit(X_train, y_train)"
   ]
  },
  {
   "cell_type": "code",
   "execution_count": 14,
   "id": "10b12cb8-4749-4794-a788-0da39618d3ec",
   "metadata": {},
   "outputs": [
    {
     "data": {
      "text/plain": [
       "DecisionTreeClassifier(max_depth=3, min_samples_leaf=8)"
      ]
     },
     "execution_count": 14,
     "metadata": {},
     "output_type": "execute_result"
    }
   ],
   "source": [
    "GSCV.best_estimator_"
   ]
  },
  {
   "cell_type": "code",
   "execution_count": 15,
   "id": "11709a19-aa09-4649-9380-87d940c6d17a",
   "metadata": {},
   "outputs": [
    {
     "data": {
      "text/plain": [
       "DecisionTreeClassifier(max_depth=4, min_samples_leaf=6)"
      ]
     },
     "execution_count": 15,
     "metadata": {},
     "output_type": "execute_result"
    }
   ],
   "source": [
    "classifier_1 = DecisionTreeClassifier(max_depth=4, min_samples_leaf=6)\n",
    "classifier_1.fit(X_train, y_train)"
   ]
  },
  {
   "cell_type": "code",
   "execution_count": 16,
   "id": "64bbea41-632b-47a4-bf00-3e528c6a0225",
   "metadata": {},
   "outputs": [],
   "source": [
    "y_pred_1 = classifier_1.predict(X_test)"
   ]
  },
  {
   "cell_type": "code",
   "execution_count": 17,
   "id": "505d0743-94a4-47c5-bc01-df54585d6c5e",
   "metadata": {},
   "outputs": [
    {
     "data": {
      "text/plain": [
       "0.8043800871794743"
      ]
     },
     "execution_count": 17,
     "metadata": {},
     "output_type": "execute_result"
    }
   ],
   "source": [
    "f1_score(y_test, y_pred_1, average='weighted')"
   ]
  },
  {
   "cell_type": "code",
   "execution_count": 18,
   "id": "737b88cb-3bcf-4df7-9a81-dcdf6aa93434",
   "metadata": {},
   "outputs": [],
   "source": [
    "import warnings\n",
    "warnings.filterwarnings(\"ignore\")"
   ]
  },
  {
   "cell_type": "code",
   "execution_count": 19,
   "id": "1b302641-6ece-4540-af6e-8f13acb05d8f",
   "metadata": {},
   "outputs": [
    {
     "name": "stdout",
     "output_type": "stream",
     "text": [
      "              precision    recall  f1-score   support\n",
      "\n",
      "           0       0.87      1.00      0.93      1343\n",
      "           1       1.00      0.01      0.02       211\n",
      "\n",
      "    accuracy                           0.87      1554\n",
      "   macro avg       0.93      0.50      0.47      1554\n",
      "weighted avg       0.88      0.87      0.80      1554\n",
      "\n"
     ]
    }
   ],
   "source": [
    "from sklearn.metrics import classification_report\n",
    "print(classification_report(y_test, y_pred_1))"
   ]
  },
  {
   "cell_type": "code",
   "execution_count": 20,
   "id": "f5d45782-c533-4740-bf71-6b26f49b0cbb",
   "metadata": {},
   "outputs": [
    {
     "data": {
      "text/plain": [
       "RandomForestClassifier()"
      ]
     },
     "execution_count": 20,
     "metadata": {},
     "output_type": "execute_result"
    }
   ],
   "source": [
    "from sklearn.ensemble import RandomForestClassifier\n",
    "model = RandomForestClassifier()\n",
    "model.fit(X_train, y_train)"
   ]
  },
  {
   "cell_type": "code",
   "execution_count": 21,
   "id": "a97acb4a-2759-46b3-a987-80577c31431a",
   "metadata": {},
   "outputs": [],
   "source": [
    "y_pred_2 = model.predict(X_test)"
   ]
  },
  {
   "cell_type": "code",
   "execution_count": 22,
   "id": "69156e7a-1bd0-4cd1-9f52-c12bc8b9a2fc",
   "metadata": {},
   "outputs": [
    {
     "name": "stdout",
     "output_type": "stream",
     "text": [
      "              precision    recall  f1-score   support\n",
      "\n",
      "           0       0.86      1.00      0.93      1343\n",
      "           1       0.33      0.00      0.01       211\n",
      "\n",
      "    accuracy                           0.86      1554\n",
      "   macro avg       0.60      0.50      0.47      1554\n",
      "weighted avg       0.79      0.86      0.80      1554\n",
      "\n"
     ]
    }
   ],
   "source": [
    "from sklearn.metrics import classification_report\n",
    "print(classification_report(y_test, y_pred_2))"
   ]
  },
  {
   "cell_type": "code",
   "execution_count": 23,
   "id": "cea23498-3302-4d8f-9230-86d1799569ef",
   "metadata": {},
   "outputs": [
    {
     "data": {
      "text/plain": [
       "GridSearchCV(cv=3, estimator=RandomForestClassifier(),\n",
       "             param_grid={'max_depth': range(3, 10),\n",
       "                         'min_samples_leaf': range(1, 10),\n",
       "                         'min_samples_split': range(2, 10)},\n",
       "             scoring='neg_mean_absolute_error')"
      ]
     },
     "execution_count": 23,
     "metadata": {},
     "output_type": "execute_result"
    }
   ],
   "source": [
    "from sklearn.model_selection import GridSearchCV\n",
    "GSCV = GridSearchCV( model, {'max_depth': range(3,10), 'min_samples_leaf': range(1,10), 'min_samples_split': range(2, 10)}, cv = 3, scoring = 'neg_mean_absolute_error')\n",
    "GSCV.fit(X_train, y_train)"
   ]
  },
  {
   "cell_type": "code",
   "execution_count": 24,
   "id": "0a4d635b-da89-4f9e-ab08-e66924a6eb75",
   "metadata": {},
   "outputs": [
    {
     "data": {
      "text/plain": [
       "RandomForestClassifier(max_depth=3)"
      ]
     },
     "execution_count": 24,
     "metadata": {},
     "output_type": "execute_result"
    }
   ],
   "source": [
    "GSCV.best_estimator_"
   ]
  },
  {
   "cell_type": "code",
   "execution_count": 25,
   "id": "5016d5a1-a708-4e8a-b6c4-f042bc84aecf",
   "metadata": {},
   "outputs": [
    {
     "data": {
      "text/plain": [
       "RandomForestClassifier(max_depth=5, min_samples_split=7)"
      ]
     },
     "execution_count": 25,
     "metadata": {},
     "output_type": "execute_result"
    }
   ],
   "source": [
    "from sklearn.ensemble import RandomForestClassifier\n",
    "model_1 = RandomForestClassifier(max_depth=5, min_samples_split=7)\n",
    "model_1.fit(X_train, y_train)"
   ]
  },
  {
   "cell_type": "code",
   "execution_count": 26,
   "id": "706466ae-82ea-416a-8a04-eeef8bcc1fb7",
   "metadata": {},
   "outputs": [],
   "source": [
    "y_pred_3 = model.predict(X_test)"
   ]
  },
  {
   "cell_type": "code",
   "execution_count": 27,
   "id": "f97bff36-c97f-47c9-989e-c68af8f18627",
   "metadata": {},
   "outputs": [
    {
     "name": "stdout",
     "output_type": "stream",
     "text": [
      "              precision    recall  f1-score   support\n",
      "\n",
      "           0       0.86      1.00      0.93      1343\n",
      "           1       0.33      0.00      0.01       211\n",
      "\n",
      "    accuracy                           0.86      1554\n",
      "   macro avg       0.60      0.50      0.47      1554\n",
      "weighted avg       0.79      0.86      0.80      1554\n",
      "\n"
     ]
    }
   ],
   "source": [
    "from sklearn.metrics import classification_report\n",
    "print(classification_report(y_test, y_pred_3))"
   ]
  },
  {
   "cell_type": "code",
   "execution_count": 28,
   "id": "fb49cad0-dd5a-41a1-8fbe-14f615ac9800",
   "metadata": {},
   "outputs": [
    {
     "data": {
      "text/plain": [
       "0.8635778635778636"
      ]
     },
     "execution_count": 28,
     "metadata": {},
     "output_type": "execute_result"
    }
   ],
   "source": [
    "f1_score(y_test, y_pred_3, average='micro')"
   ]
  },
  {
   "cell_type": "code",
   "execution_count": 29,
   "id": "7454738c-ef5f-4374-94a5-1eb23b3dcf4b",
   "metadata": {},
   "outputs": [
    {
     "data": {
      "text/plain": [
       "0.8635778635778636"
      ]
     },
     "execution_count": 29,
     "metadata": {},
     "output_type": "execute_result"
    }
   ],
   "source": [
    "from sklearn.metrics import accuracy_score\n",
    "accuracy_score(y_test, y_pred_3)"
   ]
  },
  {
   "cell_type": "code",
   "execution_count": 30,
   "id": "284002fb-64e0-40cb-ac5c-2d65a231847e",
   "metadata": {},
   "outputs": [],
   "source": [
    "from sklearn.ensemble import BaggingRegressor\n",
    "from sklearn.tree import DecisionTreeRegressor"
   ]
  },
  {
   "cell_type": "code",
   "execution_count": 31,
   "id": "aec58a5f-4754-42ab-8062-b6ca595e7ee8",
   "metadata": {},
   "outputs": [],
   "source": [
    "bdt = BaggingRegressor(DecisionTreeClassifier()).fit(X_train, y_train)\n",
    "bdt_predict = bdt.predict(X_test)"
   ]
  },
  {
   "cell_type": "code",
   "execution_count": 32,
   "id": "243cdf5f-4054-498a-bde1-a7dcbb0f1602",
   "metadata": {},
   "outputs": [
    {
     "data": {
      "text/plain": [
       "0.8642213642213642"
      ]
     },
     "execution_count": 32,
     "metadata": {},
     "output_type": "execute_result"
    }
   ],
   "source": [
    "for i in range(len(bdt_predict)):\n",
    "    if bdt_predict[i] <= 0.9:\n",
    "        bdt_predict[i] = 0\n",
    "    else:\n",
    "        bdt_predict[i] = 1\n",
    "accuracy_score(y_test, bdt_predict)"
   ]
  },
  {
   "cell_type": "code",
   "execution_count": 33,
   "id": "a588df15-f253-4f5a-9e53-51fea78cc13b",
   "metadata": {},
   "outputs": [],
   "source": [
    "from sklearn.compose import ColumnTransformer\n",
    "from sklearn.pipeline import Pipeline\n",
    "from sklearn.impute import SimpleImputer\n",
    "from sklearn.preprocessing import OneHotEncoder\n",
    "from sklearn.ensemble import RandomForestClassifier\n",
    "\n",
    "def pipeline_types():\n",
    "    numeric_features = [\n",
    "        'Gender', \n",
    "        'Own_car', \n",
    "        'Own_property',\n",
    "        'Work_phone',\n",
    "        'Phone', \n",
    "        'Email',\n",
    "        'Unemployed', \n",
    "        'Num_children', \n",
    "        'Num_family',\n",
    "        'Account_length',\n",
    "        'Age',\n",
    "        'Years_employed',\n",
    "    ]\n",
    "    categorical_features = [\n",
    "        'Income_type',\n",
    "        'Education_type',\n",
    "        'Family_status',\n",
    "        'Housing_type',\n",
    "        'Occupation_type',\n",
    "    ]\n",
    "\n",
    "    numeric_transformer = Pipeline(steps=[\n",
    "        ('imputer', SimpleImputer(strategy='most_frequent'))\n",
    "    ])\n",
    "    categorical_transformer = Pipeline(steps=[\n",
    "        ('imputer', SimpleImputer(strategy='most_frequent')),\n",
    "        ('onehot', OneHotEncoder(handle_unknown='ignore'))\n",
    "    ])\n",
    "    transformer = ColumnTransformer(transformers=[\n",
    "        ('numeric_data_preprocessing', numeric_transformer, numeric_features),\n",
    "        ('categorical_data_preprocessing', categorical_transformer, categorical_features)\n",
    "    ])\n",
    "    return Pipeline(steps=[\n",
    "        ('transformer', transformer),\n",
    "        ('rf_estimator', RandomForestClassifier()),\n",
    "    ])"
   ]
  },
  {
   "cell_type": "code",
   "execution_count": 34,
   "id": "7cb1574d-3f76-40f0-aa41-779498106e12",
   "metadata": {},
   "outputs": [],
   "source": [
    "dataset_1 = pd.read_csv(\"credit_train.csv\")"
   ]
  },
  {
   "cell_type": "code",
   "execution_count": 35,
   "id": "aeb60299-4f30-4c75-8ae0-857fb6e37d73",
   "metadata": {},
   "outputs": [],
   "source": [
    "X_d1 = dataset_1.drop('Target', axis=1).drop('id', axis=1)\n",
    "y_d1 = dataset_1['Target']"
   ]
  },
  {
   "cell_type": "code",
   "execution_count": 36,
   "id": "f16da54f-8958-4b9e-8b84-a41431c94773",
   "metadata": {},
   "outputs": [],
   "source": [
    "X_train_d1, X_test_d1, y_train_d1, y_test_d1 = train_test_split(X_d1, y_d1, test_size=0.20)"
   ]
  },
  {
   "cell_type": "code",
   "execution_count": 37,
   "id": "a2256ff6-7c7b-41d8-8322-5773483e15bd",
   "metadata": {},
   "outputs": [
    {
     "data": {
      "text/plain": [
       "Pipeline(steps=[('transformer',\n",
       "                 ColumnTransformer(transformers=[('numeric_data_preprocessing',\n",
       "                                                  Pipeline(steps=[('imputer',\n",
       "                                                                   SimpleImputer(strategy='most_frequent'))]),\n",
       "                                                  ['Gender', 'Own_car',\n",
       "                                                   'Own_property', 'Work_phone',\n",
       "                                                   'Phone', 'Email',\n",
       "                                                   'Unemployed', 'Num_children',\n",
       "                                                   'Num_family',\n",
       "                                                   'Account_length', 'Age',\n",
       "                                                   'Years_employed']),\n",
       "                                                 ('categorical_data_preprocessing',\n",
       "                                                  Pipeline(steps=[('imputer',\n",
       "                                                                   SimpleImputer(strategy='most_frequent')),\n",
       "                                                                  ('onehot',\n",
       "                                                                   OneHotEncoder(handle_unknown='ignore'))]),\n",
       "                                                  ['Income_type',\n",
       "                                                   'Education_type',\n",
       "                                                   'Family_status',\n",
       "                                                   'Housing_type',\n",
       "                                                   'Occupation_type'])])),\n",
       "                ('rf_estimator', RandomForestClassifier())])"
      ]
     },
     "execution_count": 37,
     "metadata": {},
     "output_type": "execute_result"
    }
   ],
   "source": [
    "pipeline = pipeline_types()\n",
    "\n",
    "pipeline.fit(X_train_d1, y_train_d1)"
   ]
  },
  {
   "cell_type": "code",
   "execution_count": 38,
   "id": "4e91cdab-6e83-4f3f-a5ee-90cf7b2fa821",
   "metadata": {},
   "outputs": [
    {
     "ename": "ValueError",
     "evalue": "could not convert string to float: 'State servant'",
     "output_type": "error",
     "traceback": [
      "\u001b[1;31m---------------------------------------------------------------------------\u001b[0m",
      "\u001b[1;31mValueError\u001b[0m                                Traceback (most recent call last)",
      "\u001b[1;32m~\\AppData\\Local\\Temp/ipykernel_20492/3228481154.py\u001b[0m in \u001b[0;36m<module>\u001b[1;34m\u001b[0m\n\u001b[1;32m----> 1\u001b[1;33m \u001b[0my_pred_s1\u001b[0m \u001b[1;33m=\u001b[0m \u001b[0mmodel\u001b[0m\u001b[1;33m.\u001b[0m\u001b[0mpredict\u001b[0m\u001b[1;33m(\u001b[0m\u001b[0mX_test_d1\u001b[0m\u001b[1;33m)\u001b[0m\u001b[1;33m\u001b[0m\u001b[1;33m\u001b[0m\u001b[0m\n\u001b[0m",
      "\u001b[1;32m~\\anaconda3\\lib\\site-packages\\sklearn\\ensemble\\_forest.py\u001b[0m in \u001b[0;36mpredict\u001b[1;34m(self, X)\u001b[0m\n\u001b[0;32m    796\u001b[0m             \u001b[0mThe\u001b[0m \u001b[0mpredicted\u001b[0m \u001b[0mclasses\u001b[0m\u001b[1;33m.\u001b[0m\u001b[1;33m\u001b[0m\u001b[1;33m\u001b[0m\u001b[0m\n\u001b[0;32m    797\u001b[0m         \"\"\"\n\u001b[1;32m--> 798\u001b[1;33m         \u001b[0mproba\u001b[0m \u001b[1;33m=\u001b[0m \u001b[0mself\u001b[0m\u001b[1;33m.\u001b[0m\u001b[0mpredict_proba\u001b[0m\u001b[1;33m(\u001b[0m\u001b[0mX\u001b[0m\u001b[1;33m)\u001b[0m\u001b[1;33m\u001b[0m\u001b[1;33m\u001b[0m\u001b[0m\n\u001b[0m\u001b[0;32m    799\u001b[0m \u001b[1;33m\u001b[0m\u001b[0m\n\u001b[0;32m    800\u001b[0m         \u001b[1;32mif\u001b[0m \u001b[0mself\u001b[0m\u001b[1;33m.\u001b[0m\u001b[0mn_outputs_\u001b[0m \u001b[1;33m==\u001b[0m \u001b[1;36m1\u001b[0m\u001b[1;33m:\u001b[0m\u001b[1;33m\u001b[0m\u001b[1;33m\u001b[0m\u001b[0m\n",
      "\u001b[1;32m~\\anaconda3\\lib\\site-packages\\sklearn\\ensemble\\_forest.py\u001b[0m in \u001b[0;36mpredict_proba\u001b[1;34m(self, X)\u001b[0m\n\u001b[0;32m    838\u001b[0m         \u001b[0mcheck_is_fitted\u001b[0m\u001b[1;33m(\u001b[0m\u001b[0mself\u001b[0m\u001b[1;33m)\u001b[0m\u001b[1;33m\u001b[0m\u001b[1;33m\u001b[0m\u001b[0m\n\u001b[0;32m    839\u001b[0m         \u001b[1;31m# Check data\u001b[0m\u001b[1;33m\u001b[0m\u001b[1;33m\u001b[0m\u001b[1;33m\u001b[0m\u001b[0m\n\u001b[1;32m--> 840\u001b[1;33m         \u001b[0mX\u001b[0m \u001b[1;33m=\u001b[0m \u001b[0mself\u001b[0m\u001b[1;33m.\u001b[0m\u001b[0m_validate_X_predict\u001b[0m\u001b[1;33m(\u001b[0m\u001b[0mX\u001b[0m\u001b[1;33m)\u001b[0m\u001b[1;33m\u001b[0m\u001b[1;33m\u001b[0m\u001b[0m\n\u001b[0m\u001b[0;32m    841\u001b[0m \u001b[1;33m\u001b[0m\u001b[0m\n\u001b[0;32m    842\u001b[0m         \u001b[1;31m# Assign chunk of trees to jobs\u001b[0m\u001b[1;33m\u001b[0m\u001b[1;33m\u001b[0m\u001b[1;33m\u001b[0m\u001b[0m\n",
      "\u001b[1;32m~\\anaconda3\\lib\\site-packages\\sklearn\\ensemble\\_forest.py\u001b[0m in \u001b[0;36m_validate_X_predict\u001b[1;34m(self, X)\u001b[0m\n\u001b[0;32m    567\u001b[0m         Validate X whenever one tries to predict, apply, predict_proba.\"\"\"\n\u001b[0;32m    568\u001b[0m         \u001b[0mcheck_is_fitted\u001b[0m\u001b[1;33m(\u001b[0m\u001b[0mself\u001b[0m\u001b[1;33m)\u001b[0m\u001b[1;33m\u001b[0m\u001b[1;33m\u001b[0m\u001b[0m\n\u001b[1;32m--> 569\u001b[1;33m         \u001b[0mX\u001b[0m \u001b[1;33m=\u001b[0m \u001b[0mself\u001b[0m\u001b[1;33m.\u001b[0m\u001b[0m_validate_data\u001b[0m\u001b[1;33m(\u001b[0m\u001b[0mX\u001b[0m\u001b[1;33m,\u001b[0m \u001b[0mdtype\u001b[0m\u001b[1;33m=\u001b[0m\u001b[0mDTYPE\u001b[0m\u001b[1;33m,\u001b[0m \u001b[0maccept_sparse\u001b[0m\u001b[1;33m=\u001b[0m\u001b[1;34m\"csr\"\u001b[0m\u001b[1;33m,\u001b[0m \u001b[0mreset\u001b[0m\u001b[1;33m=\u001b[0m\u001b[1;32mFalse\u001b[0m\u001b[1;33m)\u001b[0m\u001b[1;33m\u001b[0m\u001b[1;33m\u001b[0m\u001b[0m\n\u001b[0m\u001b[0;32m    570\u001b[0m         \u001b[1;32mif\u001b[0m \u001b[0missparse\u001b[0m\u001b[1;33m(\u001b[0m\u001b[0mX\u001b[0m\u001b[1;33m)\u001b[0m \u001b[1;32mand\u001b[0m \u001b[1;33m(\u001b[0m\u001b[0mX\u001b[0m\u001b[1;33m.\u001b[0m\u001b[0mindices\u001b[0m\u001b[1;33m.\u001b[0m\u001b[0mdtype\u001b[0m \u001b[1;33m!=\u001b[0m \u001b[0mnp\u001b[0m\u001b[1;33m.\u001b[0m\u001b[0mintc\u001b[0m \u001b[1;32mor\u001b[0m \u001b[0mX\u001b[0m\u001b[1;33m.\u001b[0m\u001b[0mindptr\u001b[0m\u001b[1;33m.\u001b[0m\u001b[0mdtype\u001b[0m \u001b[1;33m!=\u001b[0m \u001b[0mnp\u001b[0m\u001b[1;33m.\u001b[0m\u001b[0mintc\u001b[0m\u001b[1;33m)\u001b[0m\u001b[1;33m:\u001b[0m\u001b[1;33m\u001b[0m\u001b[1;33m\u001b[0m\u001b[0m\n\u001b[0;32m    571\u001b[0m             \u001b[1;32mraise\u001b[0m \u001b[0mValueError\u001b[0m\u001b[1;33m(\u001b[0m\u001b[1;34m\"No support for np.int64 index based sparse matrices\"\u001b[0m\u001b[1;33m)\u001b[0m\u001b[1;33m\u001b[0m\u001b[1;33m\u001b[0m\u001b[0m\n",
      "\u001b[1;32m~\\anaconda3\\lib\\site-packages\\sklearn\\base.py\u001b[0m in \u001b[0;36m_validate_data\u001b[1;34m(self, X, y, reset, validate_separately, **check_params)\u001b[0m\n\u001b[0;32m    559\u001b[0m             \u001b[1;32mraise\u001b[0m \u001b[0mValueError\u001b[0m\u001b[1;33m(\u001b[0m\u001b[1;34m\"Validation should be done on X, y or both.\"\u001b[0m\u001b[1;33m)\u001b[0m\u001b[1;33m\u001b[0m\u001b[1;33m\u001b[0m\u001b[0m\n\u001b[0;32m    560\u001b[0m         \u001b[1;32melif\u001b[0m \u001b[1;32mnot\u001b[0m \u001b[0mno_val_X\u001b[0m \u001b[1;32mand\u001b[0m \u001b[0mno_val_y\u001b[0m\u001b[1;33m:\u001b[0m\u001b[1;33m\u001b[0m\u001b[1;33m\u001b[0m\u001b[0m\n\u001b[1;32m--> 561\u001b[1;33m             \u001b[0mX\u001b[0m \u001b[1;33m=\u001b[0m \u001b[0mcheck_array\u001b[0m\u001b[1;33m(\u001b[0m\u001b[0mX\u001b[0m\u001b[1;33m,\u001b[0m \u001b[1;33m**\u001b[0m\u001b[0mcheck_params\u001b[0m\u001b[1;33m)\u001b[0m\u001b[1;33m\u001b[0m\u001b[1;33m\u001b[0m\u001b[0m\n\u001b[0m\u001b[0;32m    562\u001b[0m             \u001b[0mout\u001b[0m \u001b[1;33m=\u001b[0m \u001b[0mX\u001b[0m\u001b[1;33m\u001b[0m\u001b[1;33m\u001b[0m\u001b[0m\n\u001b[0;32m    563\u001b[0m         \u001b[1;32melif\u001b[0m \u001b[0mno_val_X\u001b[0m \u001b[1;32mand\u001b[0m \u001b[1;32mnot\u001b[0m \u001b[0mno_val_y\u001b[0m\u001b[1;33m:\u001b[0m\u001b[1;33m\u001b[0m\u001b[1;33m\u001b[0m\u001b[0m\n",
      "\u001b[1;32m~\\anaconda3\\lib\\site-packages\\sklearn\\utils\\validation.py\u001b[0m in \u001b[0;36mcheck_array\u001b[1;34m(array, accept_sparse, accept_large_sparse, dtype, order, copy, force_all_finite, ensure_2d, allow_nd, ensure_min_samples, ensure_min_features, estimator)\u001b[0m\n\u001b[0;32m    736\u001b[0m                     \u001b[0marray\u001b[0m \u001b[1;33m=\u001b[0m \u001b[0marray\u001b[0m\u001b[1;33m.\u001b[0m\u001b[0mastype\u001b[0m\u001b[1;33m(\u001b[0m\u001b[0mdtype\u001b[0m\u001b[1;33m,\u001b[0m \u001b[0mcasting\u001b[0m\u001b[1;33m=\u001b[0m\u001b[1;34m\"unsafe\"\u001b[0m\u001b[1;33m,\u001b[0m \u001b[0mcopy\u001b[0m\u001b[1;33m=\u001b[0m\u001b[1;32mFalse\u001b[0m\u001b[1;33m)\u001b[0m\u001b[1;33m\u001b[0m\u001b[1;33m\u001b[0m\u001b[0m\n\u001b[0;32m    737\u001b[0m                 \u001b[1;32melse\u001b[0m\u001b[1;33m:\u001b[0m\u001b[1;33m\u001b[0m\u001b[1;33m\u001b[0m\u001b[0m\n\u001b[1;32m--> 738\u001b[1;33m                     \u001b[0marray\u001b[0m \u001b[1;33m=\u001b[0m \u001b[0mnp\u001b[0m\u001b[1;33m.\u001b[0m\u001b[0masarray\u001b[0m\u001b[1;33m(\u001b[0m\u001b[0marray\u001b[0m\u001b[1;33m,\u001b[0m \u001b[0morder\u001b[0m\u001b[1;33m=\u001b[0m\u001b[0morder\u001b[0m\u001b[1;33m,\u001b[0m \u001b[0mdtype\u001b[0m\u001b[1;33m=\u001b[0m\u001b[0mdtype\u001b[0m\u001b[1;33m)\u001b[0m\u001b[1;33m\u001b[0m\u001b[1;33m\u001b[0m\u001b[0m\n\u001b[0m\u001b[0;32m    739\u001b[0m             \u001b[1;32mexcept\u001b[0m \u001b[0mComplexWarning\u001b[0m \u001b[1;32mas\u001b[0m \u001b[0mcomplex_warning\u001b[0m\u001b[1;33m:\u001b[0m\u001b[1;33m\u001b[0m\u001b[1;33m\u001b[0m\u001b[0m\n\u001b[0;32m    740\u001b[0m                 raise ValueError(\n",
      "\u001b[1;32m~\\anaconda3\\lib\\site-packages\\numpy\\core\\_asarray.py\u001b[0m in \u001b[0;36masarray\u001b[1;34m(a, dtype, order)\u001b[0m\n\u001b[0;32m     81\u001b[0m \u001b[1;33m\u001b[0m\u001b[0m\n\u001b[0;32m     82\u001b[0m     \"\"\"\n\u001b[1;32m---> 83\u001b[1;33m     \u001b[1;32mreturn\u001b[0m \u001b[0marray\u001b[0m\u001b[1;33m(\u001b[0m\u001b[0ma\u001b[0m\u001b[1;33m,\u001b[0m \u001b[0mdtype\u001b[0m\u001b[1;33m,\u001b[0m \u001b[0mcopy\u001b[0m\u001b[1;33m=\u001b[0m\u001b[1;32mFalse\u001b[0m\u001b[1;33m,\u001b[0m \u001b[0morder\u001b[0m\u001b[1;33m=\u001b[0m\u001b[0morder\u001b[0m\u001b[1;33m)\u001b[0m\u001b[1;33m\u001b[0m\u001b[1;33m\u001b[0m\u001b[0m\n\u001b[0m\u001b[0;32m     84\u001b[0m \u001b[1;33m\u001b[0m\u001b[0m\n\u001b[0;32m     85\u001b[0m \u001b[1;33m\u001b[0m\u001b[0m\n",
      "\u001b[1;32m~\\anaconda3\\lib\\site-packages\\pandas\\core\\generic.py\u001b[0m in \u001b[0;36m__array__\u001b[1;34m(self, dtype)\u001b[0m\n\u001b[0;32m   1991\u001b[0m \u001b[1;33m\u001b[0m\u001b[0m\n\u001b[0;32m   1992\u001b[0m     \u001b[1;32mdef\u001b[0m \u001b[0m__array__\u001b[0m\u001b[1;33m(\u001b[0m\u001b[0mself\u001b[0m\u001b[1;33m,\u001b[0m \u001b[0mdtype\u001b[0m\u001b[1;33m:\u001b[0m \u001b[0mNpDtype\u001b[0m \u001b[1;33m|\u001b[0m \u001b[1;32mNone\u001b[0m \u001b[1;33m=\u001b[0m \u001b[1;32mNone\u001b[0m\u001b[1;33m)\u001b[0m \u001b[1;33m->\u001b[0m \u001b[0mnp\u001b[0m\u001b[1;33m.\u001b[0m\u001b[0mndarray\u001b[0m\u001b[1;33m:\u001b[0m\u001b[1;33m\u001b[0m\u001b[1;33m\u001b[0m\u001b[0m\n\u001b[1;32m-> 1993\u001b[1;33m         \u001b[1;32mreturn\u001b[0m \u001b[0mnp\u001b[0m\u001b[1;33m.\u001b[0m\u001b[0masarray\u001b[0m\u001b[1;33m(\u001b[0m\u001b[0mself\u001b[0m\u001b[1;33m.\u001b[0m\u001b[0m_values\u001b[0m\u001b[1;33m,\u001b[0m \u001b[0mdtype\u001b[0m\u001b[1;33m=\u001b[0m\u001b[0mdtype\u001b[0m\u001b[1;33m)\u001b[0m\u001b[1;33m\u001b[0m\u001b[1;33m\u001b[0m\u001b[0m\n\u001b[0m\u001b[0;32m   1994\u001b[0m \u001b[1;33m\u001b[0m\u001b[0m\n\u001b[0;32m   1995\u001b[0m     def __array_wrap__(\n",
      "\u001b[1;32m~\\anaconda3\\lib\\site-packages\\numpy\\core\\_asarray.py\u001b[0m in \u001b[0;36masarray\u001b[1;34m(a, dtype, order)\u001b[0m\n\u001b[0;32m     81\u001b[0m \u001b[1;33m\u001b[0m\u001b[0m\n\u001b[0;32m     82\u001b[0m     \"\"\"\n\u001b[1;32m---> 83\u001b[1;33m     \u001b[1;32mreturn\u001b[0m \u001b[0marray\u001b[0m\u001b[1;33m(\u001b[0m\u001b[0ma\u001b[0m\u001b[1;33m,\u001b[0m \u001b[0mdtype\u001b[0m\u001b[1;33m,\u001b[0m \u001b[0mcopy\u001b[0m\u001b[1;33m=\u001b[0m\u001b[1;32mFalse\u001b[0m\u001b[1;33m,\u001b[0m \u001b[0morder\u001b[0m\u001b[1;33m=\u001b[0m\u001b[0morder\u001b[0m\u001b[1;33m)\u001b[0m\u001b[1;33m\u001b[0m\u001b[1;33m\u001b[0m\u001b[0m\n\u001b[0m\u001b[0;32m     84\u001b[0m \u001b[1;33m\u001b[0m\u001b[0m\n\u001b[0;32m     85\u001b[0m \u001b[1;33m\u001b[0m\u001b[0m\n",
      "\u001b[1;31mValueError\u001b[0m: could not convert string to float: 'State servant'"
     ]
    }
   ],
   "source": [
    "y_pred_s1 = model.predict(X_test_d1)"
   ]
  },
  {
   "cell_type": "code",
   "execution_count": null,
   "id": "d5544d43-3695-40f0-90b3-2d6bc2f8af28",
   "metadata": {},
   "outputs": [],
   "source": [
    "print(classification_report(y_test_d1, y_pred_s1))"
   ]
  },
  {
   "cell_type": "code",
   "execution_count": null,
   "id": "292bed0b-3c1b-4db7-9787-56d330dd2255",
   "metadata": {},
   "outputs": [],
   "source": [
    "f1_score(y_test_d1, y_pred_s1, average='micro')"
   ]
  },
  {
   "cell_type": "code",
   "execution_count": null,
   "id": "668aeb56-6806-4529-ba54-f3a11e5c342d",
   "metadata": {},
   "outputs": [],
   "source": [
    "test_input = pd.read_csv(\"credit_test.csv\")\n",
    "\n",
    "prediction = pipeline.predict(test_input)\n",
    "\n",
    "result = pd.DataFrame()\n",
    "\n",
    "result['Target'] = prediction\n",
    "result.to_csv('result.csv')"
   ]
  },
  {
   "cell_type": "code",
   "execution_count": null,
   "id": "e33f109d-b9fe-4c56-a0dc-30c0d5cd45c9",
   "metadata": {},
   "outputs": [],
   "source": [
    "prediction"
   ]
  },
  {
   "cell_type": "code",
   "execution_count": null,
   "id": "b71e9eec-e4e7-4afe-a6bc-538525852fe7",
   "metadata": {},
   "outputs": [],
   "source": []
  }
 ],
 "metadata": {
  "kernelspec": {
   "display_name": "Python 3 (ipykernel)",
   "language": "python",
   "name": "python3"
  },
  "language_info": {
   "codemirror_mode": {
    "name": "ipython",
    "version": 3
   },
   "file_extension": ".py",
   "mimetype": "text/x-python",
   "name": "python",
   "nbconvert_exporter": "python",
   "pygments_lexer": "ipython3",
   "version": "3.8.8"
  }
 },
 "nbformat": 4,
 "nbformat_minor": 5
}
