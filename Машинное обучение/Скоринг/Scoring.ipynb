{
 "cells": [
  {
   "cell_type": "code",
   "execution_count": 1,
   "id": "cfc13c1c-f5ab-40a0-b9c1-287769067ec5",
   "metadata": {},
   "outputs": [],
   "source": [
    "import pandas as pd\n",
    "import numpy as np\n",
    "import seaborn as sns\n",
    "\n",
    "import matplotlib.pyplot as plt\n",
    "\n",
    "import warnings\n",
    "warnings.filterwarnings(\"ignore\", category=UserWarning)"
   ]
  },
  {
   "cell_type": "code",
   "execution_count": 2,
   "id": "bd98bbe2-4ea1-4268-9b0e-67f93b5d2f0d",
   "metadata": {},
   "outputs": [],
   "source": [
    "dataset = pd.read_csv(\"data.csv\")"
   ]
  },
  {
   "cell_type": "code",
   "execution_count": 3,
   "id": "199d1e05-43fe-41da-830a-cce0c3ddf8dd",
   "metadata": {},
   "outputs": [
    {
     "data": {
      "text/plain": [
       "21525"
      ]
     },
     "execution_count": 3,
     "metadata": {},
     "output_type": "execute_result"
    }
   ],
   "source": [
    "dataset.shape[0] #кол-во строк"
   ]
  },
  {
   "cell_type": "code",
   "execution_count": 4,
   "id": "f07a572d-a979-409c-9d01-bb759cdf745c",
   "metadata": {},
   "outputs": [
    {
     "data": {
      "text/plain": [
       "12"
      ]
     },
     "execution_count": 4,
     "metadata": {},
     "output_type": "execute_result"
    }
   ],
   "source": [
    "dataset.shape[1] #кол-во столбцов"
   ]
  },
  {
   "cell_type": "code",
   "execution_count": 5,
   "id": "263958bc-da17-4568-afa7-c0d810832f6f",
   "metadata": {},
   "outputs": [
    {
     "data": {
      "text/html": [
       "<div>\n",
       "<style scoped>\n",
       "    .dataframe tbody tr th:only-of-type {\n",
       "        vertical-align: middle;\n",
       "    }\n",
       "\n",
       "    .dataframe tbody tr th {\n",
       "        vertical-align: top;\n",
       "    }\n",
       "\n",
       "    .dataframe thead th {\n",
       "        text-align: right;\n",
       "    }\n",
       "</style>\n",
       "<table border=\"1\" class=\"dataframe\">\n",
       "  <thead>\n",
       "    <tr style=\"text-align: right;\">\n",
       "      <th></th>\n",
       "      <th>children</th>\n",
       "      <th>days_employed</th>\n",
       "      <th>dob_years</th>\n",
       "      <th>education</th>\n",
       "      <th>education_id</th>\n",
       "      <th>family_status</th>\n",
       "      <th>family_status_id</th>\n",
       "      <th>gender</th>\n",
       "      <th>income_type</th>\n",
       "      <th>debt</th>\n",
       "      <th>total_income</th>\n",
       "      <th>purpose</th>\n",
       "    </tr>\n",
       "  </thead>\n",
       "  <tbody>\n",
       "    <tr>\n",
       "      <th>0</th>\n",
       "      <td>1</td>\n",
       "      <td>-8437.673028</td>\n",
       "      <td>42</td>\n",
       "      <td>высшее</td>\n",
       "      <td>0</td>\n",
       "      <td>женат / замужем</td>\n",
       "      <td>0</td>\n",
       "      <td>F</td>\n",
       "      <td>сотрудник</td>\n",
       "      <td>0</td>\n",
       "      <td>253875.639453</td>\n",
       "      <td>покупка жилья</td>\n",
       "    </tr>\n",
       "    <tr>\n",
       "      <th>1</th>\n",
       "      <td>1</td>\n",
       "      <td>-4024.803754</td>\n",
       "      <td>36</td>\n",
       "      <td>среднее</td>\n",
       "      <td>1</td>\n",
       "      <td>женат / замужем</td>\n",
       "      <td>0</td>\n",
       "      <td>F</td>\n",
       "      <td>сотрудник</td>\n",
       "      <td>0</td>\n",
       "      <td>112080.014102</td>\n",
       "      <td>приобретение автомобиля</td>\n",
       "    </tr>\n",
       "    <tr>\n",
       "      <th>2</th>\n",
       "      <td>0</td>\n",
       "      <td>-5623.422610</td>\n",
       "      <td>33</td>\n",
       "      <td>Среднее</td>\n",
       "      <td>1</td>\n",
       "      <td>женат / замужем</td>\n",
       "      <td>0</td>\n",
       "      <td>M</td>\n",
       "      <td>сотрудник</td>\n",
       "      <td>0</td>\n",
       "      <td>145885.952297</td>\n",
       "      <td>покупка жилья</td>\n",
       "    </tr>\n",
       "    <tr>\n",
       "      <th>3</th>\n",
       "      <td>3</td>\n",
       "      <td>-4124.747207</td>\n",
       "      <td>32</td>\n",
       "      <td>среднее</td>\n",
       "      <td>1</td>\n",
       "      <td>женат / замужем</td>\n",
       "      <td>0</td>\n",
       "      <td>M</td>\n",
       "      <td>сотрудник</td>\n",
       "      <td>0</td>\n",
       "      <td>267628.550329</td>\n",
       "      <td>дополнительное образование</td>\n",
       "    </tr>\n",
       "    <tr>\n",
       "      <th>4</th>\n",
       "      <td>0</td>\n",
       "      <td>340266.072047</td>\n",
       "      <td>53</td>\n",
       "      <td>среднее</td>\n",
       "      <td>1</td>\n",
       "      <td>гражданский брак</td>\n",
       "      <td>1</td>\n",
       "      <td>F</td>\n",
       "      <td>пенсионер</td>\n",
       "      <td>0</td>\n",
       "      <td>158616.077870</td>\n",
       "      <td>сыграть свадьбу</td>\n",
       "    </tr>\n",
       "  </tbody>\n",
       "</table>\n",
       "</div>"
      ],
      "text/plain": [
       "   children  days_employed  dob_years education  education_id  \\\n",
       "0         1   -8437.673028         42    высшее             0   \n",
       "1         1   -4024.803754         36   среднее             1   \n",
       "2         0   -5623.422610         33   Среднее             1   \n",
       "3         3   -4124.747207         32   среднее             1   \n",
       "4         0  340266.072047         53   среднее             1   \n",
       "\n",
       "      family_status  family_status_id gender income_type  debt   total_income  \\\n",
       "0   женат / замужем                 0      F   сотрудник     0  253875.639453   \n",
       "1   женат / замужем                 0      F   сотрудник     0  112080.014102   \n",
       "2   женат / замужем                 0      M   сотрудник     0  145885.952297   \n",
       "3   женат / замужем                 0      M   сотрудник     0  267628.550329   \n",
       "4  гражданский брак                 1      F   пенсионер     0  158616.077870   \n",
       "\n",
       "                      purpose  \n",
       "0               покупка жилья  \n",
       "1     приобретение автомобиля  \n",
       "2               покупка жилья  \n",
       "3  дополнительное образование  \n",
       "4             сыграть свадьбу  "
      ]
     },
     "execution_count": 5,
     "metadata": {},
     "output_type": "execute_result"
    }
   ],
   "source": [
    "dataset.head() #первые 5 строк"
   ]
  },
  {
   "cell_type": "code",
   "execution_count": 6,
   "id": "a5a334fb-879d-4e69-b821-9eef2dc735cb",
   "metadata": {},
   "outputs": [
    {
     "data": {
      "text/html": [
       "<div>\n",
       "<style scoped>\n",
       "    .dataframe tbody tr th:only-of-type {\n",
       "        vertical-align: middle;\n",
       "    }\n",
       "\n",
       "    .dataframe tbody tr th {\n",
       "        vertical-align: top;\n",
       "    }\n",
       "\n",
       "    .dataframe thead th {\n",
       "        text-align: right;\n",
       "    }\n",
       "</style>\n",
       "<table border=\"1\" class=\"dataframe\">\n",
       "  <thead>\n",
       "    <tr style=\"text-align: right;\">\n",
       "      <th></th>\n",
       "      <th>children</th>\n",
       "      <th>days_employed</th>\n",
       "      <th>dob_years</th>\n",
       "      <th>education</th>\n",
       "      <th>education_id</th>\n",
       "      <th>family_status</th>\n",
       "      <th>family_status_id</th>\n",
       "      <th>gender</th>\n",
       "      <th>income_type</th>\n",
       "      <th>debt</th>\n",
       "      <th>total_income</th>\n",
       "      <th>purpose</th>\n",
       "    </tr>\n",
       "  </thead>\n",
       "  <tbody>\n",
       "    <tr>\n",
       "      <th>count</th>\n",
       "      <td>21525.000000</td>\n",
       "      <td>19351.000000</td>\n",
       "      <td>21525.000000</td>\n",
       "      <td>21525</td>\n",
       "      <td>21525.000000</td>\n",
       "      <td>21525</td>\n",
       "      <td>21525.000000</td>\n",
       "      <td>21525</td>\n",
       "      <td>21525</td>\n",
       "      <td>21525.000000</td>\n",
       "      <td>1.935100e+04</td>\n",
       "      <td>21525</td>\n",
       "    </tr>\n",
       "    <tr>\n",
       "      <th>unique</th>\n",
       "      <td>NaN</td>\n",
       "      <td>NaN</td>\n",
       "      <td>NaN</td>\n",
       "      <td>15</td>\n",
       "      <td>NaN</td>\n",
       "      <td>5</td>\n",
       "      <td>NaN</td>\n",
       "      <td>3</td>\n",
       "      <td>8</td>\n",
       "      <td>NaN</td>\n",
       "      <td>NaN</td>\n",
       "      <td>38</td>\n",
       "    </tr>\n",
       "    <tr>\n",
       "      <th>top</th>\n",
       "      <td>NaN</td>\n",
       "      <td>NaN</td>\n",
       "      <td>NaN</td>\n",
       "      <td>среднее</td>\n",
       "      <td>NaN</td>\n",
       "      <td>женат / замужем</td>\n",
       "      <td>NaN</td>\n",
       "      <td>F</td>\n",
       "      <td>сотрудник</td>\n",
       "      <td>NaN</td>\n",
       "      <td>NaN</td>\n",
       "      <td>свадьба</td>\n",
       "    </tr>\n",
       "    <tr>\n",
       "      <th>freq</th>\n",
       "      <td>NaN</td>\n",
       "      <td>NaN</td>\n",
       "      <td>NaN</td>\n",
       "      <td>13750</td>\n",
       "      <td>NaN</td>\n",
       "      <td>12380</td>\n",
       "      <td>NaN</td>\n",
       "      <td>14236</td>\n",
       "      <td>11119</td>\n",
       "      <td>NaN</td>\n",
       "      <td>NaN</td>\n",
       "      <td>797</td>\n",
       "    </tr>\n",
       "    <tr>\n",
       "      <th>mean</th>\n",
       "      <td>0.538908</td>\n",
       "      <td>63046.497661</td>\n",
       "      <td>43.293380</td>\n",
       "      <td>NaN</td>\n",
       "      <td>0.817236</td>\n",
       "      <td>NaN</td>\n",
       "      <td>0.972544</td>\n",
       "      <td>NaN</td>\n",
       "      <td>NaN</td>\n",
       "      <td>0.080883</td>\n",
       "      <td>1.674223e+05</td>\n",
       "      <td>NaN</td>\n",
       "    </tr>\n",
       "    <tr>\n",
       "      <th>std</th>\n",
       "      <td>1.381587</td>\n",
       "      <td>140827.311974</td>\n",
       "      <td>12.574584</td>\n",
       "      <td>NaN</td>\n",
       "      <td>0.548138</td>\n",
       "      <td>NaN</td>\n",
       "      <td>1.420324</td>\n",
       "      <td>NaN</td>\n",
       "      <td>NaN</td>\n",
       "      <td>0.272661</td>\n",
       "      <td>1.029716e+05</td>\n",
       "      <td>NaN</td>\n",
       "    </tr>\n",
       "    <tr>\n",
       "      <th>min</th>\n",
       "      <td>-1.000000</td>\n",
       "      <td>-18388.949901</td>\n",
       "      <td>0.000000</td>\n",
       "      <td>NaN</td>\n",
       "      <td>0.000000</td>\n",
       "      <td>NaN</td>\n",
       "      <td>0.000000</td>\n",
       "      <td>NaN</td>\n",
       "      <td>NaN</td>\n",
       "      <td>0.000000</td>\n",
       "      <td>2.066726e+04</td>\n",
       "      <td>NaN</td>\n",
       "    </tr>\n",
       "    <tr>\n",
       "      <th>25%</th>\n",
       "      <td>0.000000</td>\n",
       "      <td>-2747.423625</td>\n",
       "      <td>33.000000</td>\n",
       "      <td>NaN</td>\n",
       "      <td>1.000000</td>\n",
       "      <td>NaN</td>\n",
       "      <td>0.000000</td>\n",
       "      <td>NaN</td>\n",
       "      <td>NaN</td>\n",
       "      <td>0.000000</td>\n",
       "      <td>1.030532e+05</td>\n",
       "      <td>NaN</td>\n",
       "    </tr>\n",
       "    <tr>\n",
       "      <th>50%</th>\n",
       "      <td>0.000000</td>\n",
       "      <td>-1203.369529</td>\n",
       "      <td>42.000000</td>\n",
       "      <td>NaN</td>\n",
       "      <td>1.000000</td>\n",
       "      <td>NaN</td>\n",
       "      <td>0.000000</td>\n",
       "      <td>NaN</td>\n",
       "      <td>NaN</td>\n",
       "      <td>0.000000</td>\n",
       "      <td>1.450179e+05</td>\n",
       "      <td>NaN</td>\n",
       "    </tr>\n",
       "    <tr>\n",
       "      <th>75%</th>\n",
       "      <td>1.000000</td>\n",
       "      <td>-291.095954</td>\n",
       "      <td>53.000000</td>\n",
       "      <td>NaN</td>\n",
       "      <td>1.000000</td>\n",
       "      <td>NaN</td>\n",
       "      <td>1.000000</td>\n",
       "      <td>NaN</td>\n",
       "      <td>NaN</td>\n",
       "      <td>0.000000</td>\n",
       "      <td>2.034351e+05</td>\n",
       "      <td>NaN</td>\n",
       "    </tr>\n",
       "    <tr>\n",
       "      <th>max</th>\n",
       "      <td>20.000000</td>\n",
       "      <td>401755.400475</td>\n",
       "      <td>75.000000</td>\n",
       "      <td>NaN</td>\n",
       "      <td>4.000000</td>\n",
       "      <td>NaN</td>\n",
       "      <td>4.000000</td>\n",
       "      <td>NaN</td>\n",
       "      <td>NaN</td>\n",
       "      <td>1.000000</td>\n",
       "      <td>2.265604e+06</td>\n",
       "      <td>NaN</td>\n",
       "    </tr>\n",
       "  </tbody>\n",
       "</table>\n",
       "</div>"
      ],
      "text/plain": [
       "            children  days_employed     dob_years education  education_id  \\\n",
       "count   21525.000000   19351.000000  21525.000000     21525  21525.000000   \n",
       "unique           NaN            NaN           NaN        15           NaN   \n",
       "top              NaN            NaN           NaN   среднее           NaN   \n",
       "freq             NaN            NaN           NaN     13750           NaN   \n",
       "mean        0.538908   63046.497661     43.293380       NaN      0.817236   \n",
       "std         1.381587  140827.311974     12.574584       NaN      0.548138   \n",
       "min        -1.000000  -18388.949901      0.000000       NaN      0.000000   \n",
       "25%         0.000000   -2747.423625     33.000000       NaN      1.000000   \n",
       "50%         0.000000   -1203.369529     42.000000       NaN      1.000000   \n",
       "75%         1.000000    -291.095954     53.000000       NaN      1.000000   \n",
       "max        20.000000  401755.400475     75.000000       NaN      4.000000   \n",
       "\n",
       "          family_status  family_status_id gender income_type          debt  \\\n",
       "count             21525      21525.000000  21525       21525  21525.000000   \n",
       "unique                5               NaN      3           8           NaN   \n",
       "top     женат / замужем               NaN      F   сотрудник           NaN   \n",
       "freq              12380               NaN  14236       11119           NaN   \n",
       "mean                NaN          0.972544    NaN         NaN      0.080883   \n",
       "std                 NaN          1.420324    NaN         NaN      0.272661   \n",
       "min                 NaN          0.000000    NaN         NaN      0.000000   \n",
       "25%                 NaN          0.000000    NaN         NaN      0.000000   \n",
       "50%                 NaN          0.000000    NaN         NaN      0.000000   \n",
       "75%                 NaN          1.000000    NaN         NaN      0.000000   \n",
       "max                 NaN          4.000000    NaN         NaN      1.000000   \n",
       "\n",
       "        total_income  purpose  \n",
       "count   1.935100e+04    21525  \n",
       "unique           NaN       38  \n",
       "top              NaN  свадьба  \n",
       "freq             NaN      797  \n",
       "mean    1.674223e+05      NaN  \n",
       "std     1.029716e+05      NaN  \n",
       "min     2.066726e+04      NaN  \n",
       "25%     1.030532e+05      NaN  \n",
       "50%     1.450179e+05      NaN  \n",
       "75%     2.034351e+05      NaN  \n",
       "max     2.265604e+06      NaN  "
      ]
     },
     "execution_count": 6,
     "metadata": {},
     "output_type": "execute_result"
    }
   ],
   "source": [
    "dataset.describe(include = \"all\") #вычисляет среднее значение, стандартное отклонение, минимальное значение, максимальное значение,\n",
    "#include = \"all\" - покозывает также строки с пропущенными значениями\n",
    "#unique - cколько уникальных значений в наборе данных\n",
    "#top значения\n",
    "#freg -  частота появления значений"
   ]
  },
  {
   "cell_type": "code",
   "execution_count": 7,
   "id": "5b91d746-fba8-42d6-871d-1a8b0e810caf",
   "metadata": {},
   "outputs": [
    {
     "name": "stdout",
     "output_type": "stream",
     "text": [
      "<class 'pandas.core.frame.DataFrame'>\n",
      "RangeIndex: 21525 entries, 0 to 21524\n",
      "Data columns (total 12 columns):\n",
      " #   Column            Non-Null Count  Dtype  \n",
      "---  ------            --------------  -----  \n",
      " 0   children          21525 non-null  int64  \n",
      " 1   days_employed     19351 non-null  float64\n",
      " 2   dob_years         21525 non-null  int64  \n",
      " 3   education         21525 non-null  object \n",
      " 4   education_id      21525 non-null  int64  \n",
      " 5   family_status     21525 non-null  object \n",
      " 6   family_status_id  21525 non-null  int64  \n",
      " 7   gender            21525 non-null  object \n",
      " 8   income_type       21525 non-null  object \n",
      " 9   debt              21525 non-null  int64  \n",
      " 10  total_income      19351 non-null  float64\n",
      " 11  purpose           21525 non-null  object \n",
      "dtypes: float64(2), int64(5), object(5)\n",
      "memory usage: 2.0+ MB\n"
     ]
    }
   ],
   "source": [
    "dataset.info() #сколько значений в каждом столбце пропущенных значений и формат данных\n",
    "#индекс, столбцы и тип данных, ненулевые значения и использование памяти"
   ]
  },
  {
   "cell_type": "code",
   "execution_count": 8,
   "id": "85f2b7b2-9aee-4357-a992-58bcee18dc7f",
   "metadata": {},
   "outputs": [
    {
     "data": {
      "text/plain": [
       "<AxesSubplot:>"
      ]
     },
     "execution_count": 8,
     "metadata": {},
     "output_type": "execute_result"
    },
    {
     "data": {
      "image/png": "[encoded data removed]",
      "text/plain": [
       "<Figure size 432x288 with 2 Axes>"
      ]
     },
     "metadata": {
      "needs_background": "light"
     },
     "output_type": "display_data"
    }
   ],
   "source": [
    "corr = dataset.corr() #корреляционная матрица\n",
    "sns.heatmap(corr, \n",
    "        xticklabels=corr.columns,\n",
    "        yticklabels=corr.columns,\n",
    "        annot=True) # тепловая карта корреляционной матрицы"
   ]
  },
  {
   "cell_type": "code",
   "execution_count": 9,
   "id": "a52544e8-eea9-4c25-9168-5bb6003b3fd8",
   "metadata": {},
   "outputs": [
    {
     "name": "stdout",
     "output_type": "stream",
     "text": [
      "children               0\n",
      "days_employed       2174\n",
      "dob_years              0\n",
      "education              0\n",
      "education_id           0\n",
      "family_status          0\n",
      "family_status_id       0\n",
      "gender                 0\n",
      "income_type            0\n",
      "debt                   0\n",
      "total_income        2174\n",
      "purpose                0\n",
      "dtype: int64\n"
     ]
    },
    {
     "data": {
      "text/plain": [
       "<AxesSubplot:>"
      ]
     },
     "execution_count": 9,
     "metadata": {},
     "output_type": "execute_result"
    },
    {
     "data": {
      "image/png": "[encoded data removed]",
      "text/plain": [
       "<Figure size 432x288 with 2 Axes>"
      ]
     },
     "metadata": {
      "needs_background": "light"
     },
     "output_type": "display_data"
    }
   ],
   "source": [
    "# количество пропущенных значений в каждом столбце\n",
    "print(dataset.isna().sum())\n",
    "\n",
    "colours = ['#000099', '#ffff00'] \n",
    "sns.heatmap(dataset.isna(), cmap=sns.color_palette(colours)) # тепловая карта пропущенных значений"
   ]
  },
  {
   "cell_type": "code",
   "execution_count": 10,
   "id": "1b11fe8c-fa40-4e31-8573-778d52796cc6",
   "metadata": {},
   "outputs": [
    {
     "data": {
      "text/plain": [
       "<AxesSubplot:>"
      ]
     },
     "execution_count": 10,
     "metadata": {},
     "output_type": "execute_result"
    },
    {
     "data": {
      "image/png": "[encoded data removed]",
      "text/plain": [
       "<Figure size 432x288 with 2 Axes>"
      ]
     },
     "metadata": {
      "needs_background": "light"
     },
     "output_type": "display_data"
    }
   ],
   "source": [
    "# проверяем что все пропущенные значения у одних и тех же людей\n",
    "not_nan = dataset.drop(np.where(dataset['days_employed'].isnull() & dataset['total_income'].isnull())[0]) # убираем пропущенные значения\n",
    "\n",
    "colours = ['#ffff00', '#000099'] \n",
    "sns.heatmap(not_nan.isna(), cmap=sns.color_palette(colours))\n",
    "# Как видно из тепловой карты, пропущенные значения действительно были у одних и тех же людей"
   ]
  },
  {
   "cell_type": "code",
   "execution_count": 11,
   "id": "9aff3856-0816-4f6a-ae34-cc247bc60a26",
   "metadata": {},
   "outputs": [
    {
     "name": "stdout",
     "output_type": "stream",
     "text": [
      "children \n",
      "  0     14149\n",
      " 1      4818\n",
      " 2      2055\n",
      " 3       330\n",
      " 20       76\n",
      "-1        47\n",
      " 4        41\n",
      " 5         9\n",
      "Name: children, dtype: int64\n",
      "days_employed \n",
      " -8437.673028      1\n",
      "-3507.818775      1\n",
      " 354500.415854    1\n",
      "-769.717438       1\n",
      "-3963.590317      1\n",
      "                 ..\n",
      "-1099.957609      1\n",
      "-209.984794       1\n",
      " 398099.392433    1\n",
      "-1271.038880      1\n",
      "-1984.507589      1\n",
      "Name: days_employed, Length: 19351, dtype: int64\n",
      "dob_years \n",
      " 35    617\n",
      "40    609\n",
      "41    607\n",
      "34    603\n",
      "38    598\n",
      "42    597\n",
      "33    581\n",
      "39    573\n",
      "31    560\n",
      "36    555\n",
      "44    547\n",
      "29    545\n",
      "30    540\n",
      "48    538\n",
      "37    537\n",
      "50    514\n",
      "43    513\n",
      "32    510\n",
      "49    508\n",
      "28    503\n",
      "45    497\n",
      "27    493\n",
      "56    487\n",
      "52    484\n",
      "47    480\n",
      "54    479\n",
      "46    475\n",
      "58    461\n",
      "57    460\n",
      "53    459\n",
      "51    448\n",
      "59    444\n",
      "55    443\n",
      "26    408\n",
      "60    377\n",
      "25    357\n",
      "61    355\n",
      "62    352\n",
      "63    269\n",
      "64    265\n",
      "24    264\n",
      "23    254\n",
      "65    194\n",
      "22    183\n",
      "66    183\n",
      "67    167\n",
      "21    111\n",
      "0     101\n",
      "68     99\n",
      "69     85\n",
      "70     65\n",
      "71     58\n",
      "20     51\n",
      "72     33\n",
      "19     14\n",
      "73      8\n",
      "74      6\n",
      "75      1\n",
      "Name: dob_years, dtype: int64\n",
      "education \n",
      " среднее                15233\n",
      "высшее                  5260\n",
      "неоконченное высшее      744\n",
      "начальное                282\n",
      "ученая степень             6\n",
      "Name: education, dtype: int64\n",
      "education_id \n",
      " 1    15233\n",
      "0     5260\n",
      "2      744\n",
      "3      282\n",
      "4        6\n",
      "Name: education_id, dtype: int64\n",
      "family_status \n",
      " женат / замужем          12380\n",
      "гражданский брак          4177\n",
      "Не женат / не замужем     2813\n",
      "в разводе                 1195\n",
      "вдовец / вдова             960\n",
      "Name: family_status, dtype: int64\n",
      "family_status_id \n",
      " 0    12380\n",
      "1     4177\n",
      "4     2813\n",
      "3     1195\n",
      "2      960\n",
      "Name: family_status_id, dtype: int64\n",
      "gender \n",
      " F      14236\n",
      "M       7288\n",
      "XNA        1\n",
      "Name: gender, dtype: int64\n",
      "income_type \n",
      " сотрудник          11119\n",
      "компаньон           5085\n",
      "пенсионер           3856\n",
      "госслужащий         1459\n",
      "безработный            2\n",
      "предприниматель        2\n",
      "студент                1\n",
      "в декрете              1\n",
      "Name: income_type, dtype: int64\n",
      "debt \n",
      " 0    19784\n",
      "1     1741\n",
      "Name: debt, dtype: int64\n",
      "total_income \n",
      " 253875.639453    1\n",
      "157691.851056    1\n",
      "70113.902786     1\n",
      "116196.518662    1\n",
      "157205.834562    1\n",
      "                ..\n",
      "168880.592469    1\n",
      "148042.721049    1\n",
      "60039.334460     1\n",
      "175979.762960    1\n",
      "82047.418899     1\n",
      "Name: total_income, Length: 19351, dtype: int64\n",
      "purpose \n",
      " свадьба                                   797\n",
      "на проведение свадьбы                     777\n",
      "сыграть свадьбу                           774\n",
      "операции с недвижимостью                  676\n",
      "покупка коммерческой недвижимости         664\n",
      "покупка жилья для сдачи                   653\n",
      "операции с жильем                         653\n",
      "операции с коммерческой недвижимостью     651\n",
      "покупка жилья                             647\n",
      "жилье                                     647\n",
      "покупка жилья для семьи                   641\n",
      "строительство собственной недвижимости    635\n",
      "недвижимость                              634\n",
      "операции со своей недвижимостью           630\n",
      "строительство жилой недвижимости          626\n",
      "покупка недвижимости                      624\n",
      "строительство недвижимости                620\n",
      "покупка своего жилья                      620\n",
      "ремонт жилью                              612\n",
      "покупка жилой недвижимости                607\n",
      "на покупку своего автомобиля              505\n",
      "заняться высшим образованием              496\n",
      "автомобиль                                495\n",
      "сделка с подержанным автомобилем          489\n",
      "свой автомобиль                           480\n",
      "на покупку подержанного автомобиля        479\n",
      "автомобили                                478\n",
      "на покупку автомобиля                     472\n",
      "дополнительное образование                462\n",
      "приобретение автомобиля                   462\n",
      "сделка с автомобилем                      455\n",
      "высшее образование                        453\n",
      "образование                               447\n",
      "получение дополнительного образования     447\n",
      "получение образования                     443\n",
      "профильное образование                    436\n",
      "получение высшего образования             426\n",
      "заняться образованием                     412\n",
      "Name: purpose, dtype: int64\n"
     ]
    }
   ],
   "source": [
    "dataset[\"education\"] = dataset[\"education\"].apply(lambda x:x.lower())\n",
    "# значения в столбце с количеством их вхождений\n",
    "col = dataset.columns\n",
    "for el in col:\n",
    "    print(el, \"\\n\", dataset[el].value_counts())"
   ]
  },
  {
   "cell_type": "code",
   "execution_count": 12,
   "id": "89e802d6-2e9d-4437-84b1-38a4c6c71097",
   "metadata": {},
   "outputs": [
    {
     "name": "stdout",
     "output_type": "stream",
     "text": [
      "-------- \n",
      " свадьб \n",
      " свадьба                  797\n",
      "на проведение свадьбы    777\n",
      "сыграть свадьбу          774\n",
      "Name: purpose, dtype: int64\n",
      "-------- \n",
      " недвижимост \n",
      " операции с недвижимостью                  676\n",
      "покупка коммерческой недвижимости         664\n",
      "операции с коммерческой недвижимостью     651\n",
      "строительство собственной недвижимости    635\n",
      "недвижимость                              634\n",
      "операции со своей недвижимостью           630\n",
      "строительство жилой недвижимости          626\n",
      "покупка недвижимости                      624\n",
      "строительство недвижимости                620\n",
      "покупка жилой недвижимости                607\n",
      "Name: purpose, dtype: int64\n",
      "-------- \n",
      " жиль \n",
      " операции с жильем          653\n",
      "покупка жилья для сдачи    653\n",
      "покупка жилья              647\n",
      "жилье                      647\n",
      "покупка жилья для семьи    641\n",
      "покупка своего жилья       620\n",
      "ремонт жилью               612\n",
      "Name: purpose, dtype: int64\n",
      "-------- \n",
      " автомобил \n",
      " на покупку своего автомобиля          505\n",
      "автомобиль                            495\n",
      "сделка с подержанным автомобилем      489\n",
      "свой автомобиль                       480\n",
      "на покупку подержанного автомобиля    479\n",
      "автомобили                            478\n",
      "на покупку автомобиля                 472\n",
      "приобретение автомобиля               462\n",
      "сделка с автомобилем                  455\n",
      "Name: purpose, dtype: int64\n",
      "-------- \n",
      " образован \n",
      " заняться высшим образованием             496\n",
      "дополнительное образование               462\n",
      "высшее образование                       453\n",
      "образование                              447\n",
      "получение дополнительного образования    447\n",
      "получение образования                    443\n",
      "профильное образование                   436\n",
      "получение высшего образования            426\n",
      "заняться образованием                    412\n",
      "Name: purpose, dtype: int64\n"
     ]
    }
   ],
   "source": [
    "# Нормализируем категориальные данные\n",
    "pattern = {\"свадьб\": \"свадьба\", \"недвижимост\": \"жильё\", \"жиль\": \"жильё\", \"автомобил\": \"автомобиль\", \"образован\": \"образование\"} # паттерны (корни) слов, которые объединяют схожие данные в одни\n",
    "for pat in pattern.keys():\n",
    "    print(\"-\"*8, \"\\n\", pat, \"\\n\", dataset[dataset[\"purpose\"].str.contains(pat)][\"purpose\"].value_counts()) # номральизация категориальных данных столбца с целью кредита"
   ]
  },
  {
   "cell_type": "code",
   "execution_count": 13,
   "id": "141d0064-4467-403b-84fc-e66b2c30e3f1",
   "metadata": {},
   "outputs": [
    {
     "name": "stdout",
     "output_type": "stream",
     "text": [
      "жильё          10840\n",
      "автомобиль      4315\n",
      "образование     4022\n",
      "свадьба         2348\n",
      "Name: purpose, dtype: int64\n"
     ]
    },
    {
     "data": {
      "text/html": [
       "<div>\n",
       "<style scoped>\n",
       "    .dataframe tbody tr th:only-of-type {\n",
       "        vertical-align: middle;\n",
       "    }\n",
       "\n",
       "    .dataframe tbody tr th {\n",
       "        vertical-align: top;\n",
       "    }\n",
       "\n",
       "    .dataframe thead th {\n",
       "        text-align: right;\n",
       "    }\n",
       "</style>\n",
       "<table border=\"1\" class=\"dataframe\">\n",
       "  <thead>\n",
       "    <tr style=\"text-align: right;\">\n",
       "      <th></th>\n",
       "      <th>children</th>\n",
       "      <th>days_employed</th>\n",
       "      <th>dob_years</th>\n",
       "      <th>education</th>\n",
       "      <th>education_id</th>\n",
       "      <th>family_status</th>\n",
       "      <th>family_status_id</th>\n",
       "      <th>gender</th>\n",
       "      <th>income_type</th>\n",
       "      <th>debt</th>\n",
       "      <th>total_income</th>\n",
       "      <th>purpose</th>\n",
       "    </tr>\n",
       "  </thead>\n",
       "  <tbody>\n",
       "    <tr>\n",
       "      <th>0</th>\n",
       "      <td>1</td>\n",
       "      <td>-8437.673028</td>\n",
       "      <td>42</td>\n",
       "      <td>высшее</td>\n",
       "      <td>0</td>\n",
       "      <td>женат / замужем</td>\n",
       "      <td>0</td>\n",
       "      <td>F</td>\n",
       "      <td>сотрудник</td>\n",
       "      <td>0</td>\n",
       "      <td>253875.639453</td>\n",
       "      <td>жильё</td>\n",
       "    </tr>\n",
       "    <tr>\n",
       "      <th>1</th>\n",
       "      <td>1</td>\n",
       "      <td>-4024.803754</td>\n",
       "      <td>36</td>\n",
       "      <td>среднее</td>\n",
       "      <td>1</td>\n",
       "      <td>женат / замужем</td>\n",
       "      <td>0</td>\n",
       "      <td>F</td>\n",
       "      <td>сотрудник</td>\n",
       "      <td>0</td>\n",
       "      <td>112080.014102</td>\n",
       "      <td>автомобиль</td>\n",
       "    </tr>\n",
       "    <tr>\n",
       "      <th>2</th>\n",
       "      <td>0</td>\n",
       "      <td>-5623.422610</td>\n",
       "      <td>33</td>\n",
       "      <td>среднее</td>\n",
       "      <td>1</td>\n",
       "      <td>женат / замужем</td>\n",
       "      <td>0</td>\n",
       "      <td>M</td>\n",
       "      <td>сотрудник</td>\n",
       "      <td>0</td>\n",
       "      <td>145885.952297</td>\n",
       "      <td>жильё</td>\n",
       "    </tr>\n",
       "    <tr>\n",
       "      <th>3</th>\n",
       "      <td>3</td>\n",
       "      <td>-4124.747207</td>\n",
       "      <td>32</td>\n",
       "      <td>среднее</td>\n",
       "      <td>1</td>\n",
       "      <td>женат / замужем</td>\n",
       "      <td>0</td>\n",
       "      <td>M</td>\n",
       "      <td>сотрудник</td>\n",
       "      <td>0</td>\n",
       "      <td>267628.550329</td>\n",
       "      <td>образование</td>\n",
       "    </tr>\n",
       "    <tr>\n",
       "      <th>4</th>\n",
       "      <td>0</td>\n",
       "      <td>340266.072047</td>\n",
       "      <td>53</td>\n",
       "      <td>среднее</td>\n",
       "      <td>1</td>\n",
       "      <td>гражданский брак</td>\n",
       "      <td>1</td>\n",
       "      <td>F</td>\n",
       "      <td>пенсионер</td>\n",
       "      <td>0</td>\n",
       "      <td>158616.077870</td>\n",
       "      <td>свадьба</td>\n",
       "    </tr>\n",
       "    <tr>\n",
       "      <th>...</th>\n",
       "      <td>...</td>\n",
       "      <td>...</td>\n",
       "      <td>...</td>\n",
       "      <td>...</td>\n",
       "      <td>...</td>\n",
       "      <td>...</td>\n",
       "      <td>...</td>\n",
       "      <td>...</td>\n",
       "      <td>...</td>\n",
       "      <td>...</td>\n",
       "      <td>...</td>\n",
       "      <td>...</td>\n",
       "    </tr>\n",
       "    <tr>\n",
       "      <th>21520</th>\n",
       "      <td>1</td>\n",
       "      <td>-4529.316663</td>\n",
       "      <td>43</td>\n",
       "      <td>среднее</td>\n",
       "      <td>1</td>\n",
       "      <td>гражданский брак</td>\n",
       "      <td>1</td>\n",
       "      <td>F</td>\n",
       "      <td>компаньон</td>\n",
       "      <td>0</td>\n",
       "      <td>224791.862382</td>\n",
       "      <td>жильё</td>\n",
       "    </tr>\n",
       "    <tr>\n",
       "      <th>21521</th>\n",
       "      <td>0</td>\n",
       "      <td>343937.404131</td>\n",
       "      <td>67</td>\n",
       "      <td>среднее</td>\n",
       "      <td>1</td>\n",
       "      <td>женат / замужем</td>\n",
       "      <td>0</td>\n",
       "      <td>F</td>\n",
       "      <td>пенсионер</td>\n",
       "      <td>0</td>\n",
       "      <td>155999.806512</td>\n",
       "      <td>автомобиль</td>\n",
       "    </tr>\n",
       "    <tr>\n",
       "      <th>21522</th>\n",
       "      <td>1</td>\n",
       "      <td>-2113.346888</td>\n",
       "      <td>38</td>\n",
       "      <td>среднее</td>\n",
       "      <td>1</td>\n",
       "      <td>гражданский брак</td>\n",
       "      <td>1</td>\n",
       "      <td>M</td>\n",
       "      <td>сотрудник</td>\n",
       "      <td>1</td>\n",
       "      <td>89672.561153</td>\n",
       "      <td>жильё</td>\n",
       "    </tr>\n",
       "    <tr>\n",
       "      <th>21523</th>\n",
       "      <td>3</td>\n",
       "      <td>-3112.481705</td>\n",
       "      <td>38</td>\n",
       "      <td>среднее</td>\n",
       "      <td>1</td>\n",
       "      <td>женат / замужем</td>\n",
       "      <td>0</td>\n",
       "      <td>M</td>\n",
       "      <td>сотрудник</td>\n",
       "      <td>1</td>\n",
       "      <td>244093.050500</td>\n",
       "      <td>автомобиль</td>\n",
       "    </tr>\n",
       "    <tr>\n",
       "      <th>21524</th>\n",
       "      <td>2</td>\n",
       "      <td>-1984.507589</td>\n",
       "      <td>40</td>\n",
       "      <td>среднее</td>\n",
       "      <td>1</td>\n",
       "      <td>женат / замужем</td>\n",
       "      <td>0</td>\n",
       "      <td>F</td>\n",
       "      <td>сотрудник</td>\n",
       "      <td>0</td>\n",
       "      <td>82047.418899</td>\n",
       "      <td>автомобиль</td>\n",
       "    </tr>\n",
       "  </tbody>\n",
       "</table>\n",
       "<p>21525 rows × 12 columns</p>\n",
       "</div>"
      ],
      "text/plain": [
       "       children  days_employed  dob_years education  education_id  \\\n",
       "0             1   -8437.673028         42    высшее             0   \n",
       "1             1   -4024.803754         36   среднее             1   \n",
       "2             0   -5623.422610         33   среднее             1   \n",
       "3             3   -4124.747207         32   среднее             1   \n",
       "4             0  340266.072047         53   среднее             1   \n",
       "...         ...            ...        ...       ...           ...   \n",
       "21520         1   -4529.316663         43   среднее             1   \n",
       "21521         0  343937.404131         67   среднее             1   \n",
       "21522         1   -2113.346888         38   среднее             1   \n",
       "21523         3   -3112.481705         38   среднее             1   \n",
       "21524         2   -1984.507589         40   среднее             1   \n",
       "\n",
       "          family_status  family_status_id gender income_type  debt  \\\n",
       "0       женат / замужем                 0      F   сотрудник     0   \n",
       "1       женат / замужем                 0      F   сотрудник     0   \n",
       "2       женат / замужем                 0      M   сотрудник     0   \n",
       "3       женат / замужем                 0      M   сотрудник     0   \n",
       "4      гражданский брак                 1      F   пенсионер     0   \n",
       "...                 ...               ...    ...         ...   ...   \n",
       "21520  гражданский брак                 1      F   компаньон     0   \n",
       "21521   женат / замужем                 0      F   пенсионер     0   \n",
       "21522  гражданский брак                 1      M   сотрудник     1   \n",
       "21523   женат / замужем                 0      M   сотрудник     1   \n",
       "21524   женат / замужем                 0      F   сотрудник     0   \n",
       "\n",
       "        total_income      purpose  \n",
       "0      253875.639453        жильё  \n",
       "1      112080.014102   автомобиль  \n",
       "2      145885.952297        жильё  \n",
       "3      267628.550329  образование  \n",
       "4      158616.077870      свадьба  \n",
       "...              ...          ...  \n",
       "21520  224791.862382        жильё  \n",
       "21521  155999.806512   автомобиль  \n",
       "21522   89672.561153        жильё  \n",
       "21523  244093.050500   автомобиль  \n",
       "21524   82047.418899   автомобиль  \n",
       "\n",
       "[21525 rows x 12 columns]"
      ]
     },
     "execution_count": 13,
     "metadata": {},
     "output_type": "execute_result"
    }
   ],
   "source": [
    "# Проверка что мы нормализовали данные\n",
    "for pat, val in pattern.items():\n",
    "    dataset.loc[dataset[\"purpose\"].str.contains(pat, case=False), \"purpose\"] = val\n",
    "print(dataset[\"purpose\"].value_counts())\n",
    "dataset"
   ]
  },
  {
   "cell_type": "code",
   "execution_count": 14,
   "id": "26324b08-7b33-4806-ba55-3989edf182e0",
   "metadata": {},
   "outputs": [
    {
     "data": {
      "text/plain": [
       "0    14149\n",
       "1     4865\n",
       "2     2131\n",
       "3      330\n",
       "4       41\n",
       "5        9\n",
       "Name: children, dtype: int64"
      ]
     },
     "execution_count": 14,
     "metadata": {},
     "output_type": "execute_result"
    }
   ],
   "source": [
    "dataset[\"children\"] = dataset[\"children\"].apply(lambda x: abs(x))\n",
    "dataset.loc[dataset[\"children\"] == 20, \"children\"] = 2\n",
    "\n",
    "dataset[\"children\"].value_counts()"
   ]
  },
  {
   "cell_type": "code",
   "execution_count": 15,
   "id": "2af19883-c117-4e08-90b1-41900143fdf5",
   "metadata": {},
   "outputs": [
    {
     "data": {
      "text/plain": [
       "0         0.770564\n",
       "1         0.367562\n",
       "2         0.513555\n",
       "3         0.376689\n",
       "4        31.074527\n",
       "           ...    \n",
       "21520     0.413636\n",
       "21521    31.409809\n",
       "21522     0.193000\n",
       "21523     0.284245\n",
       "21524     0.181234\n",
       "Name: days_employed, Length: 21525, dtype: float64"
      ]
     },
     "execution_count": 15,
     "metadata": {},
     "output_type": "execute_result"
    }
   ],
   "source": [
    "dataset[\"days_employed\"] = dataset[\"days_employed\"].apply(lambda x: abs(x) / 30 / 365)\n",
    "\n",
    "dataset[\"days_employed\"]"
   ]
  },
  {
   "cell_type": "code",
   "execution_count": 16,
   "id": "8b229a2e-9d3e-4b37-8716-b369d5ee3d32",
   "metadata": {},
   "outputs": [
    {
     "data": {
      "text/plain": [
       "<AxesSubplot:>"
      ]
     },
     "execution_count": 16,
     "metadata": {},
     "output_type": "execute_result"
    },
    {
     "data": {
      "image/png": "[encoded data removed]",
      "text/plain": [
       "<Figure size 432x288 with 1 Axes>"
      ]
     },
     "metadata": {
      "needs_background": "light"
     },
     "output_type": "display_data"
    }
   ],
   "source": [
    "dataset[\"children\"].hist() #кол-во детей в семье"
   ]
  },
  {
   "cell_type": "code",
   "execution_count": 17,
   "id": "578ca8a2-3ef1-46a8-9b8a-c05b97470ab6",
   "metadata": {},
   "outputs": [
    {
     "data": {
      "text/plain": [
       "<AxesSubplot:>"
      ]
     },
     "execution_count": 17,
     "metadata": {},
     "output_type": "execute_result"
    },
    {
     "data": {
      "image/png": "[encoded data removed]",
      "text/plain": [
       "<Figure size 432x288 with 1 Axes>"
      ]
     },
     "metadata": {
      "needs_background": "light"
     },
     "output_type": "display_data"
    }
   ],
   "source": [
    "dataset[\"days_employed\"].hist() #общий трудовой стаж в годах"
   ]
  },
  {
   "cell_type": "code",
   "execution_count": 18,
   "id": "45f02035-b57e-4d18-8429-c29685aee697",
   "metadata": {},
   "outputs": [
    {
     "data": {
      "text/plain": [
       "<AxesSubplot:>"
      ]
     },
     "execution_count": 18,
     "metadata": {},
     "output_type": "execute_result"
    },
    {
     "data": {
      "image/png": "[encoded data removed]",
      "text/plain": [
       "<Figure size 432x288 with 1 Axes>"
      ]
     },
     "metadata": {
      "needs_background": "light"
     },
     "output_type": "display_data"
    }
   ],
   "source": [
    "dataset[(dataset[\"days_employed\"] < dataset[\"days_employed\"].quantile(0.75))][\"days_employed\"].hist() #трудовой стаж меньше нуля"
   ]
  },
  {
   "cell_type": "code",
   "execution_count": 19,
   "id": "02ec1754-30c8-4863-8bef-6eb2271c97f3",
   "metadata": {},
   "outputs": [
    {
     "data": {
      "text/plain": [
       "<AxesSubplot:>"
      ]
     },
     "execution_count": 19,
     "metadata": {},
     "output_type": "execute_result"
    },
    {
     "data": {
      "image/png": "[encoded data removed]",
      "text/plain": [
       "<Figure size 432x288 with 1 Axes>"
      ]
     },
     "metadata": {
      "needs_background": "light"
     },
     "output_type": "display_data"
    }
   ],
   "source": [
    "dataset[\"dob_years\"].hist() #возраст клиента в годах"
   ]
  },
  {
   "cell_type": "code",
   "execution_count": 20,
   "id": "2c1e209c-ce16-47b6-97d8-0ffe1556c663",
   "metadata": {},
   "outputs": [
    {
     "data": {
      "text/plain": [
       "<AxesSubplot:>"
      ]
     },
     "execution_count": 20,
     "metadata": {},
     "output_type": "execute_result"
    },
    {
     "data": {
      "image/png": "[encoded data removed]",
      "text/plain": [
       "<Figure size 432x288 with 1 Axes>"
      ]
     },
     "metadata": {
      "needs_background": "light"
     },
     "output_type": "display_data"
    }
   ],
   "source": [
    "dataset[\"total_income\"].hist()"
   ]
  },
  {
   "cell_type": "code",
   "execution_count": 21,
   "id": "43dae6e6-bed5-439e-9e45-8f701404e7c9",
   "metadata": {},
   "outputs": [
    {
     "data": {
      "image/png": "[encoded data removed]",
      "text/plain": [
       "<Figure size 432x288 with 1 Axes>"
      ]
     },
     "metadata": {},
     "output_type": "display_data"
    }
   ],
   "source": [
    "values = []\n",
    "labels = []\n",
    "for i, v in dataset[\"gender\"].value_counts().items():\n",
    "    labels.append(i)\n",
    "    values.append(v)\n",
    "\n",
    "plt.pie(values,labels=labels)\n",
    "plt.axis('equal')\n",
    "plt.show()"
   ]
  },
  {
   "cell_type": "code",
   "execution_count": 22,
   "id": "b814e57c-1826-46d5-9e60-dfce8c912b14",
   "metadata": {},
   "outputs": [
    {
     "data": {
      "text/plain": [
       "(18963, 12)"
      ]
     },
     "execution_count": 22,
     "metadata": {},
     "output_type": "execute_result"
    }
   ],
   "source": [
    "# пример избавления от аномальных величин с помощью квантилей (не особо корректно)\n",
    "q_low = dataset[\"days_employed\"].quantile(0.01)\n",
    "q_hi  = dataset[\"days_employed\"].quantile(0.99)\n",
    "\n",
    "df_filtered = dataset[(dataset[\"days_employed\"] < q_hi) & (dataset[\"days_employed\"] > q_low)]\n",
    "df_filtered.shape"
   ]
  },
  {
   "cell_type": "code",
   "execution_count": 23,
   "id": "754f625e-329e-481c-8178-1f7938909b1a",
   "metadata": {},
   "outputs": [
    {
     "name": "stdout",
     "output_type": "stream",
     "text": [
      "children \n",
      " 65.73%\n",
      "days_employed \n",
      " 0.0%\n",
      "dob_years \n",
      " 0.47000000000000003%\n",
      "education \n",
      " 0.0%\n",
      "education_id \n",
      " 24.44%\n",
      "family_status \n",
      " 0.0%\n",
      "family_status_id \n",
      " 57.50999999999999%\n",
      "gender \n",
      " 0.0%\n",
      "income_type \n",
      " 0.0%\n",
      "debt \n",
      " 91.91%\n",
      "total_income \n",
      " 0.0%\n",
      "purpose \n",
      " 0.0%\n"
     ]
    }
   ],
   "source": [
    "for el in col:\n",
    "    print(el, \"\\n\", f\"{round(dataset[dataset[el] == 0][el].count() / dataset[el].count(), 4) * 100}%\")"
   ]
  },
  {
   "cell_type": "code",
   "execution_count": 24,
   "id": "8509d65e-4e11-43ef-9de0-f9ee6692a4fb",
   "metadata": {},
   "outputs": [
    {
     "name": "stdout",
     "output_type": "stream",
     "text": [
      "сотрудник - 0.26%\n",
      "пенсионер - 0.09%\n",
      "компаньон - 0.09%\n",
      "госслужащий - 0.03%\n"
     ]
    }
   ],
   "source": [
    "vars(dataset[dataset[\"dob_years\"] == 0][\"income_type\"].value_counts())\n",
    "i = 0\n",
    "for el in dataset[dataset[\"dob_years\"] == 0][\"income_type\"].value_counts()._index:\n",
    "    print(f\"{el} - {round((dataset[dataset['dob_years'] == 0]['income_type'].value_counts()[i]) / dataset.shape[0], 4) * 100}%\")\n",
    "    i += 1"
   ]
  },
  {
   "cell_type": "code",
   "execution_count": 25,
   "id": "81b9a9d9-b75d-4fa8-9c85-bbcc2ef3fdcc",
   "metadata": {},
   "outputs": [],
   "source": [
    "from sklearn.model_selection import train_test_split, GridSearchCV\n",
    "\n",
    "dataset0 = dataset[dataset[\"debt\"] == 0] \n",
    "dataset1 = dataset[dataset[\"debt\"] == 1] \n",
    "\n",
    "dataset0 = dataset0[: len(dataset1)]\n",
    "\n",
    "dataset_fin = dataset0.append(dataset1, ignore_index=True)\n",
    "\n",
    "X = dataset_fin.drop(\"debt\", axis=1)\n",
    "y = dataset_fin['debt']\n",
    "\n",
    "X_train, X_test, y_train, y_test = train_test_split(X, y, test_size=0.2)"
   ]
  },
  {
   "cell_type": "code",
   "execution_count": 26,
   "id": "52c9d885-70ac-463f-b416-21d18ef53364",
   "metadata": {},
   "outputs": [
    {
     "name": "stdout",
     "output_type": "stream",
     "text": [
      "              precision    recall  f1-score   support\n",
      "\n",
      "           0       0.52      0.53      0.52       353\n",
      "           1       0.51      0.50      0.51       344\n",
      "\n",
      "    accuracy                           0.52       697\n",
      "   macro avg       0.51      0.51      0.51       697\n",
      "weighted avg       0.51      0.52      0.52       697\n",
      "\n"
     ]
    }
   ],
   "source": [
    "from sklearn.base import BaseEstimator, TransformerMixin\n",
    "from sklearn.compose import ColumnTransformer\n",
    "from sklearn.pipeline import Pipeline\n",
    "from sklearn.impute import SimpleImputer\n",
    "from sklearn.preprocessing import StandardScaler, OneHotEncoder\n",
    "from sklearn.metrics import classification_report\n",
    "from sklearn.ensemble import RandomForestClassifier\n",
    "\n",
    "def pipeline_types():\n",
    "    numeric_features = [\n",
    "        'children', \n",
    "        'days_employed', \n",
    "        'dob_years',\n",
    "        'education_id',\n",
    "        'family_status_id', \n",
    "        'total_income',\n",
    "    ]\n",
    "    categorical_features = [\n",
    "        'education',\n",
    "        'family_status',\n",
    "        'gender',\n",
    "        'income_type',\n",
    "        'purpose',\n",
    "    ]\n",
    "\n",
    "    numeric_transformer = Pipeline(steps=[\n",
    "        ('imputer', SimpleImputer(strategy='most_frequent'))\n",
    "    ])\n",
    "    categorical_transformer = Pipeline(steps=[\n",
    "        ('imputer', SimpleImputer(strategy='most_frequent')),\n",
    "        ('onehot', OneHotEncoder(handle_unknown='ignore'))\n",
    "    ])\n",
    "    transformer = ColumnTransformer(transformers=[\n",
    "        ('numeric_data_preprocessing', numeric_transformer, numeric_features),\n",
    "        ('categorical_data_preprocessing', categorical_transformer, categorical_features)\n",
    "    ])\n",
    "    #Трубопровод трансформаций с окончательным оценщиком.\n",
    "    return Pipeline(steps=[\n",
    "        ('transformer', transformer),\n",
    "        ('rf_estimator', RandomForestClassifier()),\n",
    "    ])\n",
    "\n",
    "pipeline = pipeline_types()\n",
    "\n",
    "pipeline.fit(X_train, y_train)\n",
    "\n",
    "prediction = pipeline.predict(X_test)\n",
    "\n",
    "print(classification_report(y_test, prediction))"
   ]
  },
  {
   "cell_type": "code",
   "execution_count": 27,
   "id": "ea135360-4a45-43bb-9db4-6a53f09c4e8a",
   "metadata": {},
   "outputs": [],
   "source": [
    "from tensorflow.keras.layers import Input, Dense, Activation,Dropout\n",
    "from tensorflow.keras.models import Model, Sequential"
   ]
  },
  {
   "cell_type": "code",
   "execution_count": 28,
   "id": "410f2ecf-0acd-4460-8ea4-ed6991255a65",
   "metadata": {},
   "outputs": [],
   "source": [
    "def trasform_column():\n",
    "    numeric_features = [\n",
    "        'children', \n",
    "        'days_employed', \n",
    "        'dob_years',\n",
    "        'education_id',\n",
    "        'family_status_id', \n",
    "        'total_income',\n",
    "    ]\n",
    "    categorical_features = [\n",
    "        'education',\n",
    "        'family_status',\n",
    "        'gender',\n",
    "        'income_type',\n",
    "        'purpose',\n",
    "    ]\n",
    "\n",
    "    numeric_transformer = Pipeline(steps=[\n",
    "        ('imputer', SimpleImputer(strategy='most_frequent'))\n",
    "    ])\n",
    "    categorical_transformer = Pipeline(steps=[\n",
    "        ('imputer', SimpleImputer(strategy='most_frequent')),\n",
    "        ('onehot', OneHotEncoder(handle_unknown='ignore'))\n",
    "    ])\n",
    "    transformer = ColumnTransformer(transformers=[\n",
    "        ('numeric_data_preprocessing', numeric_transformer, numeric_features),\n",
    "        ('categorical_data_preprocessing', categorical_transformer, categorical_features)\n",
    "    ])\n",
    "    return transformer\n",
    "\n",
    "\n",
    "transformer = trasform_column()\n",
    "X = transformer.fit_transform(X)\n",
    "labels = pd.get_dummies(dataset_fin[\"debt\"], prefix='condition')\n",
    "y = labels.values\n",
    "X_train, X_test, y_train, y_test = train_test_split(X, y, test_size=0.2)"
   ]
  },
  {
   "cell_type": "code",
   "execution_count": 29,
   "id": "453976e2-65bf-4472-895b-8ea16edfe0c7",
   "metadata": {},
   "outputs": [],
   "source": [
    "model = Sequential()\n",
    "input_layer = Input(shape=(X.shape[1],))\n",
    "dense_layer_1 = Dense(15, activation='relu')(input_layer)\n",
    "dense_layer_2 = Dense(10, activation='relu')(dense_layer_1)\n",
    "dense_layer_3 = Dense(5, activation='relu')(dense_layer_2)\n",
    "dense_layer_4 = Dense(10, activation='relu')(dense_layer_3)\n",
    "output = Dense(y.shape[1], activation='softmax')(dense_layer_4)\n",
    "\n",
    "model = Model(inputs=input_layer, outputs=output)\n",
    "model.compile(loss='categorical_crossentropy', optimizer='adam', metrics=['acc'])"
   ]
  },
  {
   "cell_type": "code",
   "execution_count": 30,
   "id": "26a8712f-8982-4a8b-88c7-1134d454bec1",
   "metadata": {},
   "outputs": [],
   "source": [
    "input_layer = Input(shape=(X.shape[1],))\n",
    "dense_layer_1 = Dense(30, activation='relu')(input_layer)\n",
    "dense_layer_2 = Dense(30, activation='relu')(dense_layer_1)\n",
    "dense_layer_3 = Dense(25, activation='relu')(dense_layer_2)\n",
    "dense_layer_4 = Dense(15, activation='relu')(dense_layer_3)\n",
    "output = Dense(y.shape[1], activation='softmax')(dense_layer_4)\n",
    "\n",
    "model = Model(inputs=input_layer, outputs=output)\n",
    "model.compile(loss='categorical_crossentropy', optimizer='adam', metrics=['acc'])"
   ]
  },
  {
   "cell_type": "code",
   "execution_count": 31,
   "id": "b468a35c-786d-46a7-8a70-b24f8b793b62",
   "metadata": {},
   "outputs": [
    {
     "name": "stdout",
     "output_type": "stream",
     "text": [
      "Model: \"model_1\"\n",
      "_________________________________________________________________\n",
      "Layer (type)                 Output Shape              Param #   \n",
      "=================================================================\n",
      "input_2 (InputLayer)         [(None, 27)]              0         \n",
      "_________________________________________________________________\n",
      "dense_5 (Dense)              (None, 30)                840       \n",
      "_________________________________________________________________\n",
      "dense_6 (Dense)              (None, 30)                930       \n",
      "_________________________________________________________________\n",
      "dense_7 (Dense)              (None, 25)                775       \n",
      "_________________________________________________________________\n",
      "dense_8 (Dense)              (None, 15)                390       \n",
      "_________________________________________________________________\n",
      "dense_9 (Dense)              (None, 2)                 32        \n",
      "=================================================================\n",
      "Total params: 2,967\n",
      "Trainable params: 2,967\n",
      "Non-trainable params: 0\n",
      "_________________________________________________________________\n",
      "None\n"
     ]
    }
   ],
   "source": [
    "print(model.summary())"
   ]
  },
  {
   "cell_type": "code",
   "execution_count": 32,
   "id": "0487e827-c851-4650-ade2-0d14972e24d5",
   "metadata": {},
   "outputs": [
    {
     "name": "stdout",
     "output_type": "stream",
     "text": [
      "22/22 [==============================] - 0s 952us/step - loss: 2129.9348 - acc: 0.4749\n",
      "Test Score: 2129.934814453125\n",
      "Test Accuracy: 0.47489240765571594\n"
     ]
    }
   ],
   "source": [
    "score = model.evaluate(X_test, y_test, verbose=1)\n",
    "\n",
    "print(\"Test Score:\", score[0])\n",
    "print(\"Test Accuracy:\", score[1])"
   ]
  },
  {
   "cell_type": "code",
   "execution_count": 33,
   "id": "635bd13c-8342-45d1-b2e2-b33cb0e54cc7",
   "metadata": {},
   "outputs": [
    {
     "name": "stdout",
     "output_type": "stream",
     "text": [
      "Epoch 1/50\n",
      "149/149 [==============================] - 1s 2ms/step - loss: 83.8085 - acc: 0.4852 - val_loss: 33.8014 - val_acc: 0.5081\n",
      "Epoch 2/50\n",
      "149/149 [==============================] - 0s 2ms/step - loss: 54.4153 - acc: 0.4919 - val_loss: 23.9499 - val_acc: 0.5081\n",
      "Epoch 3/50\n",
      "149/149 [==============================] - 0s 1ms/step - loss: 34.6445 - acc: 0.5121 - val_loss: 23.3591 - val_acc: 0.5081\n",
      "Epoch 4/50\n",
      "149/149 [==============================] - 0s 1ms/step - loss: 35.0330 - acc: 0.4942 - val_loss: 15.7434 - val_acc: 0.5081\n",
      "Epoch 5/50\n",
      "149/149 [==============================] - 0s 2ms/step - loss: 36.6985 - acc: 0.4852 - val_loss: 0.9762 - val_acc: 0.4919\n",
      "Epoch 6/50\n",
      "149/149 [==============================] - 0s 1ms/step - loss: 49.4875 - acc: 0.4982 - val_loss: 69.6255 - val_acc: 0.5081\n",
      "Epoch 7/50\n",
      "149/149 [==============================] - 0s 2ms/step - loss: 72.5453 - acc: 0.5072 - val_loss: 4.1903 - val_acc: 0.5099\n",
      "Epoch 8/50\n",
      "149/149 [==============================] - 0s 2ms/step - loss: 25.0316 - acc: 0.4838 - val_loss: 7.4314 - val_acc: 0.4919\n",
      "Epoch 9/50\n",
      "149/149 [==============================] - 0s 1ms/step - loss: 27.6082 - acc: 0.5040 - val_loss: 14.6474 - val_acc: 0.5081\n",
      "Epoch 10/50\n",
      "149/149 [==============================] - 0s 1ms/step - loss: 21.4603 - acc: 0.4987 - val_loss: 71.7453 - val_acc: 0.5081\n",
      "Epoch 11/50\n",
      "149/149 [==============================] - 0s 1ms/step - loss: 23.7917 - acc: 0.4888 - val_loss: 3.3319 - val_acc: 0.4919\n",
      "Epoch 12/50\n",
      "149/149 [==============================] - 0s 1ms/step - loss: 17.8167 - acc: 0.4838 - val_loss: 8.9275 - val_acc: 0.4919\n",
      "Epoch 13/50\n",
      "149/149 [==============================] - 0s 1ms/step - loss: 13.2239 - acc: 0.5072 - val_loss: 11.8302 - val_acc: 0.4919\n",
      "Epoch 14/50\n",
      "149/149 [==============================] - 0s 1ms/step - loss: 17.1432 - acc: 0.5004 - val_loss: 39.1699 - val_acc: 0.5081\n",
      "Epoch 15/50\n",
      "149/149 [==============================] - 0s 1ms/step - loss: 16.0060 - acc: 0.4879 - val_loss: 1.0184 - val_acc: 0.5027\n",
      "Epoch 16/50\n",
      "149/149 [==============================] - 0s 1ms/step - loss: 17.6519 - acc: 0.5036 - val_loss: 8.9655 - val_acc: 0.5081\n",
      "Epoch 17/50\n",
      "149/149 [==============================] - 0s 1ms/step - loss: 7.8630 - acc: 0.4969 - val_loss: 0.7118 - val_acc: 0.5117\n",
      "Epoch 18/50\n",
      "149/149 [==============================] - 0s 1ms/step - loss: 10.1951 - acc: 0.4955 - val_loss: 4.9869 - val_acc: 0.4919\n",
      "Epoch 19/50\n",
      "149/149 [==============================] - 0s 1ms/step - loss: 11.6590 - acc: 0.5013 - val_loss: 31.8191 - val_acc: 0.4919\n",
      "Epoch 20/50\n",
      "149/149 [==============================] - 0s 1ms/step - loss: 7.4818 - acc: 0.4919 - val_loss: 3.4524 - val_acc: 0.4919\n",
      "Epoch 21/50\n",
      "149/149 [==============================] - 0s 1ms/step - loss: 3.4550 - acc: 0.5081 - val_loss: 3.9814 - val_acc: 0.4919\n",
      "Epoch 22/50\n",
      "149/149 [==============================] - 0s 1ms/step - loss: 4.7195 - acc: 0.4987 - val_loss: 4.8997 - val_acc: 0.5081\n",
      "Epoch 23/50\n",
      "149/149 [==============================] - 0s 2ms/step - loss: 14.5863 - acc: 0.5099 - val_loss: 8.6510 - val_acc: 0.5081\n",
      "Epoch 24/50\n",
      "149/149 [==============================] - 0s 1ms/step - loss: 6.3565 - acc: 0.5031 - val_loss: 2.4901 - val_acc: 0.4919\n",
      "Epoch 25/50\n",
      "149/149 [==============================] - 0s 1ms/step - loss: 5.0737 - acc: 0.5081 - val_loss: 12.8950 - val_acc: 0.4919\n",
      "Epoch 26/50\n",
      "149/149 [==============================] - 0s 1ms/step - loss: 7.8688 - acc: 0.4852 - val_loss: 4.5967 - val_acc: 0.5081\n",
      "Epoch 27/50\n",
      "149/149 [==============================] - 0s 1ms/step - loss: 4.3596 - acc: 0.4964 - val_loss: 2.4848 - val_acc: 0.4919\n",
      "Epoch 28/50\n",
      "149/149 [==============================] - 0s 1ms/step - loss: 3.7094 - acc: 0.5099 - val_loss: 4.0521 - val_acc: 0.4919\n",
      "Epoch 29/50\n",
      "149/149 [==============================] - 0s 1ms/step - loss: 3.8203 - acc: 0.5009 - val_loss: 0.9231 - val_acc: 0.4991\n",
      "Epoch 30/50\n",
      "149/149 [==============================] - 0s 1ms/step - loss: 1.8606 - acc: 0.5121 - val_loss: 0.7987 - val_acc: 0.4883\n",
      "Epoch 31/50\n",
      "149/149 [==============================] - 0s 1ms/step - loss: 2.2604 - acc: 0.4987 - val_loss: 0.7319 - val_acc: 0.4937\n",
      "Epoch 32/50\n",
      "149/149 [==============================] - 0s 1ms/step - loss: 1.4537 - acc: 0.5193 - val_loss: 3.0047 - val_acc: 0.5081\n",
      "Epoch 33/50\n",
      "149/149 [==============================] - 0s 1ms/step - loss: 2.3811 - acc: 0.4982 - val_loss: 1.0135 - val_acc: 0.5135\n",
      "Epoch 34/50\n",
      "149/149 [==============================] - 0s 1ms/step - loss: 1.4568 - acc: 0.5148 - val_loss: 0.8194 - val_acc: 0.4901\n",
      "Epoch 35/50\n",
      "149/149 [==============================] - 0s 1ms/step - loss: 1.3769 - acc: 0.4937 - val_loss: 2.8369 - val_acc: 0.4919\n",
      "Epoch 36/50\n",
      "149/149 [==============================] - 0s 1ms/step - loss: 1.6029 - acc: 0.5189 - val_loss: 0.9078 - val_acc: 0.5099\n",
      "Epoch 37/50\n",
      "149/149 [==============================] - 0s 1ms/step - loss: 1.1128 - acc: 0.5072 - val_loss: 0.9879 - val_acc: 0.5009\n",
      "Epoch 38/50\n",
      "149/149 [==============================] - 0s 2ms/step - loss: 0.9764 - acc: 0.5224 - val_loss: 1.1315 - val_acc: 0.5081\n",
      "Epoch 39/50\n",
      "149/149 [==============================] - 0s 2ms/step - loss: 1.3595 - acc: 0.4731 - val_loss: 1.0993 - val_acc: 0.5081\n",
      "Epoch 40/50\n",
      "149/149 [==============================] - 0s 1ms/step - loss: 1.0360 - acc: 0.5189 - val_loss: 1.9488 - val_acc: 0.5081\n",
      "Epoch 41/50\n",
      "149/149 [==============================] - 0s 2ms/step - loss: 6.3635 - acc: 0.4937 - val_loss: 4.4833 - val_acc: 0.5081\n",
      "Epoch 42/50\n",
      "149/149 [==============================] - 0s 2ms/step - loss: 3.6106 - acc: 0.4892 - val_loss: 1.1832 - val_acc: 0.4919\n",
      "Epoch 43/50\n",
      "149/149 [==============================] - 0s 1ms/step - loss: 2.5457 - acc: 0.5090 - val_loss: 4.5950 - val_acc: 0.4919\n",
      "Epoch 44/50\n",
      "149/149 [==============================] - 0s 1ms/step - loss: 4.2253 - acc: 0.5063 - val_loss: 1.4921 - val_acc: 0.5081\n",
      "Epoch 45/50\n",
      "149/149 [==============================] - 0s 2ms/step - loss: 1.3897 - acc: 0.4910 - val_loss: 1.0950 - val_acc: 0.5081\n",
      "Epoch 46/50\n",
      "149/149 [==============================] - 0s 2ms/step - loss: 0.9345 - acc: 0.5081 - val_loss: 0.8401 - val_acc: 0.5081\n",
      "Epoch 47/50\n",
      "149/149 [==============================] - 0s 1ms/step - loss: 0.9369 - acc: 0.5099 - val_loss: 0.7042 - val_acc: 0.5081\n",
      "Epoch 48/50\n",
      "149/149 [==============================] - 0s 1ms/step - loss: 0.7850 - acc: 0.4937 - val_loss: 0.6917 - val_acc: 0.5206\n",
      "Epoch 49/50\n",
      "149/149 [==============================] - 0s 1ms/step - loss: 0.9821 - acc: 0.5171 - val_loss: 0.7046 - val_acc: 0.5081\n",
      "Epoch 50/50\n",
      "149/149 [==============================] - 0s 1ms/step - loss: 0.8440 - acc: 0.4843 - val_loss: 0.7256 - val_acc: 0.4758\n"
     ]
    }
   ],
   "source": [
    "history = model.fit(X_train, y_train, batch_size=15, epochs=50, verbose=1, validation_split=0.2)"
   ]
  },
  {
   "cell_type": "code",
   "execution_count": 34,
   "id": "f1166414-8e2f-4eb6-a6ec-86326d44ec8f",
   "metadata": {},
   "outputs": [],
   "source": [
    "from sklearn.model_selection import train_test_split, GridSearchCV\n",
    "\n",
    "dataset0 = dataset[dataset[\"debt\"] == 0] \n",
    "dataset1 = dataset[dataset[\"debt\"] == 1] \n",
    "\n",
    "dataset0 = dataset0[: len(dataset1)]\n",
    "\n",
    "dataset_fin = dataset0.append(dataset1, ignore_index=True)\n",
    "\n",
    "X = dataset_fin.drop(\"debt\", axis=1)\n",
    "y = dataset_fin['debt']\n",
    "\n",
    "X_train, X_test, y_train, y_test = train_test_split(X, y, test_size=0.2)"
   ]
  },
  {
   "cell_type": "code",
   "execution_count": 35,
   "id": "078012a7-2bb9-460b-96b0-37f874ab393c",
   "metadata": {},
   "outputs": [],
   "source": [
    "X = transformer.fit_transform(X)\n",
    "labels = pd.get_dummies(dataset_fin[\"debt\"], prefix='condition')\n",
    "y = labels.values\n",
    "X_train, X_test, y_train, y_test = train_test_split(X, y, test_size=0.2)"
   ]
  },
  {
   "cell_type": "code",
   "execution_count": 36,
   "id": "19c931e9-7483-475f-bed7-79ec9a810946",
   "metadata": {},
   "outputs": [
    {
     "name": "stdout",
     "output_type": "stream",
     "text": [
      "Fitting 3 folds for each of 100 candidates, totalling 300 fits\n"
     ]
    },
    {
     "data": {
      "text/plain": [
       "{'n_estimators': 200,\n",
       " 'min_samples_split': 12,\n",
       " 'min_samples_leaf': 50,\n",
       " 'max_features': 'log2',\n",
       " 'max_depth': 9,\n",
       " 'bootstrap': True}"
      ]
     },
     "execution_count": 36,
     "metadata": {},
     "output_type": "execute_result"
    }
   ],
   "source": [
    "from sklearn.model_selection import RandomizedSearchCV\n",
    "n_estimators = [int(x) for x in np.linspace(start = 100, stop = 1000, num = 10)]\n",
    "max_features = ['log2', 'sqrt']\n",
    "max_depth = [int(x) for x in np.linspace(start = 1, stop = 15, num = 15)]\n",
    "min_samples_split = [int(x) for x in np.linspace(start = 2, stop = 50, num = 10)]\n",
    "min_samples_leaf = [int(x) for x in np.linspace(start = 2, stop = 50, num = 10)]\n",
    "bootstrap = [True, False]\n",
    "param_dist = {'n_estimators': n_estimators,\n",
    "               'max_features': max_features,\n",
    "               'max_depth': max_depth,\n",
    "               'min_samples_split': min_samples_split,\n",
    "               'min_samples_leaf': min_samples_leaf,\n",
    "               'bootstrap': bootstrap}\n",
    "rs = RandomizedSearchCV(RandomForestClassifier(), \n",
    "                        param_dist, \n",
    "                        n_iter = 100, \n",
    "                        cv = 3, \n",
    "                        verbose = 1, \n",
    "                        n_jobs=-1, \n",
    "                        random_state=0)\n",
    "rs.fit(X_train, y_train)\n",
    "rs.best_params_"
   ]
  },
  {
   "cell_type": "code",
   "execution_count": 37,
   "id": "f12c5de5-579b-45bf-affc-77760eec09e0",
   "metadata": {},
   "outputs": [
    {
     "data": {
      "text/html": [
       "<div>\n",
       "<style scoped>\n",
       "    .dataframe tbody tr th:only-of-type {\n",
       "        vertical-align: middle;\n",
       "    }\n",
       "\n",
       "    .dataframe tbody tr th {\n",
       "        vertical-align: top;\n",
       "    }\n",
       "\n",
       "    .dataframe thead th {\n",
       "        text-align: right;\n",
       "    }\n",
       "</style>\n",
       "<table border=\"1\" class=\"dataframe\">\n",
       "  <thead>\n",
       "    <tr style=\"text-align: right;\">\n",
       "      <th></th>\n",
       "      <th>param_n_estimators</th>\n",
       "      <th>param_min_samples_split</th>\n",
       "      <th>param_min_samples_leaf</th>\n",
       "      <th>param_max_features</th>\n",
       "      <th>param_max_depth</th>\n",
       "      <th>param_bootstrap</th>\n",
       "      <th>mean_test_score</th>\n",
       "      <th>rank_test_score</th>\n",
       "    </tr>\n",
       "  </thead>\n",
       "  <tbody>\n",
       "    <tr>\n",
       "      <th>0</th>\n",
       "      <td>200</td>\n",
       "      <td>12</td>\n",
       "      <td>50</td>\n",
       "      <td>log2</td>\n",
       "      <td>9</td>\n",
       "      <td>True</td>\n",
       "      <td>0.612210</td>\n",
       "      <td>1</td>\n",
       "    </tr>\n",
       "    <tr>\n",
       "      <th>1</th>\n",
       "      <td>400</td>\n",
       "      <td>50</td>\n",
       "      <td>50</td>\n",
       "      <td>sqrt</td>\n",
       "      <td>6</td>\n",
       "      <td>False</td>\n",
       "      <td>0.611494</td>\n",
       "      <td>2</td>\n",
       "    </tr>\n",
       "    <tr>\n",
       "      <th>2</th>\n",
       "      <td>200</td>\n",
       "      <td>7</td>\n",
       "      <td>44</td>\n",
       "      <td>sqrt</td>\n",
       "      <td>10</td>\n",
       "      <td>False</td>\n",
       "      <td>0.610416</td>\n",
       "      <td>3</td>\n",
       "    </tr>\n",
       "    <tr>\n",
       "      <th>3</th>\n",
       "      <td>100</td>\n",
       "      <td>18</td>\n",
       "      <td>23</td>\n",
       "      <td>log2</td>\n",
       "      <td>10</td>\n",
       "      <td>True</td>\n",
       "      <td>0.610415</td>\n",
       "      <td>4</td>\n",
       "    </tr>\n",
       "    <tr>\n",
       "      <th>4</th>\n",
       "      <td>300</td>\n",
       "      <td>39</td>\n",
       "      <td>2</td>\n",
       "      <td>sqrt</td>\n",
       "      <td>3</td>\n",
       "      <td>True</td>\n",
       "      <td>0.610057</td>\n",
       "      <td>5</td>\n",
       "    </tr>\n",
       "    <tr>\n",
       "      <th>5</th>\n",
       "      <td>500</td>\n",
       "      <td>28</td>\n",
       "      <td>50</td>\n",
       "      <td>sqrt</td>\n",
       "      <td>9</td>\n",
       "      <td>False</td>\n",
       "      <td>0.610057</td>\n",
       "      <td>5</td>\n",
       "    </tr>\n",
       "    <tr>\n",
       "      <th>6</th>\n",
       "      <td>600</td>\n",
       "      <td>39</td>\n",
       "      <td>34</td>\n",
       "      <td>log2</td>\n",
       "      <td>13</td>\n",
       "      <td>True</td>\n",
       "      <td>0.610055</td>\n",
       "      <td>7</td>\n",
       "    </tr>\n",
       "    <tr>\n",
       "      <th>7</th>\n",
       "      <td>200</td>\n",
       "      <td>7</td>\n",
       "      <td>44</td>\n",
       "      <td>sqrt</td>\n",
       "      <td>11</td>\n",
       "      <td>False</td>\n",
       "      <td>0.609697</td>\n",
       "      <td>8</td>\n",
       "    </tr>\n",
       "    <tr>\n",
       "      <th>8</th>\n",
       "      <td>100</td>\n",
       "      <td>2</td>\n",
       "      <td>34</td>\n",
       "      <td>log2</td>\n",
       "      <td>10</td>\n",
       "      <td>False</td>\n",
       "      <td>0.609338</td>\n",
       "      <td>9</td>\n",
       "    </tr>\n",
       "    <tr>\n",
       "      <th>9</th>\n",
       "      <td>200</td>\n",
       "      <td>44</td>\n",
       "      <td>34</td>\n",
       "      <td>log2</td>\n",
       "      <td>14</td>\n",
       "      <td>True</td>\n",
       "      <td>0.608979</td>\n",
       "      <td>10</td>\n",
       "    </tr>\n",
       "  </tbody>\n",
       "</table>\n",
       "</div>"
      ],
      "text/plain": [
       "  param_n_estimators param_min_samples_split param_min_samples_leaf  \\\n",
       "0                200                      12                     50   \n",
       "1                400                      50                     50   \n",
       "2                200                       7                     44   \n",
       "3                100                      18                     23   \n",
       "4                300                      39                      2   \n",
       "5                500                      28                     50   \n",
       "6                600                      39                     34   \n",
       "7                200                       7                     44   \n",
       "8                100                       2                     34   \n",
       "9                200                      44                     34   \n",
       "\n",
       "  param_max_features param_max_depth param_bootstrap  mean_test_score  \\\n",
       "0               log2               9            True         0.612210   \n",
       "1               sqrt               6           False         0.611494   \n",
       "2               sqrt              10           False         0.610416   \n",
       "3               log2              10            True         0.610415   \n",
       "4               sqrt               3            True         0.610057   \n",
       "5               sqrt               9           False         0.610057   \n",
       "6               log2              13            True         0.610055   \n",
       "7               sqrt              11           False         0.609697   \n",
       "8               log2              10           False         0.609338   \n",
       "9               log2              14            True         0.608979   \n",
       "\n",
       "   rank_test_score  \n",
       "0                1  \n",
       "1                2  \n",
       "2                3  \n",
       "3                4  \n",
       "4                5  \n",
       "5                5  \n",
       "6                7  \n",
       "7                8  \n",
       "8                9  \n",
       "9               10  "
      ]
     },
     "execution_count": 37,
     "metadata": {},
     "output_type": "execute_result"
    }
   ],
   "source": [
    "rs_df = pd.DataFrame(rs.cv_results_).sort_values('rank_test_score').reset_index(drop=True)\n",
    "rs_df = rs_df.drop([\n",
    "            'mean_fit_time', \n",
    "            'std_fit_time', \n",
    "            'mean_score_time',\n",
    "            'std_score_time', \n",
    "            'params', \n",
    "            'split0_test_score', \n",
    "            'split1_test_score', \n",
    "            'split2_test_score', \n",
    "            'std_test_score'],\n",
    "            axis=1)\n",
    "rs_df.head(10)"
   ]
  },
  {
   "cell_type": "code",
   "execution_count": 38,
   "id": "46f7011f-0562-4f9c-97b7-8eaa07d053b6",
   "metadata": {},
   "outputs": [
    {
     "name": "stdout",
     "output_type": "stream",
     "text": [
      "              precision    recall  f1-score   support\n",
      "\n",
      "           0       0.59      0.58      0.59       353\n",
      "           1       0.58      0.59      0.58       344\n",
      "\n",
      "   micro avg       0.59      0.59      0.59       697\n",
      "   macro avg       0.59      0.59      0.59       697\n",
      "weighted avg       0.59      0.59      0.59       697\n",
      " samples avg       0.59      0.59      0.59       697\n",
      "\n"
     ]
    }
   ],
   "source": [
    "model_search = RandomForestClassifier(\n",
    "    n_estimators= 800,\n",
    "    min_samples_split= 28,\n",
    "    min_samples_leaf= 39,\n",
    "    max_features= 'log2',\n",
    "    max_depth= 11,\n",
    "    bootstrap= True\n",
    ")\n",
    "\n",
    "model_search.fit(X_train, y_train)\n",
    "\n",
    "prediction = model_search.predict(X_test)\n",
    "\n",
    "print(classification_report(y_test, prediction))"
   ]
  },
  {
   "cell_type": "code",
   "execution_count": 39,
   "id": "54494454-1d5c-4e3f-97d7-5fd4c0e7b1c6",
   "metadata": {},
   "outputs": [],
   "source": [
    "dataset0 = dataset[dataset[\"debt\"] == 0] \n",
    "dataset1 = dataset[dataset[\"debt\"] == 1] \n",
    "\n",
    "dataset0 = dataset0[: len(dataset1)]\n",
    "\n",
    "dataset_fin = dataset0.append(dataset1, ignore_index=True)\n",
    "\n",
    "X = dataset_fin.drop(\"debt\", axis=1)\n",
    "y = dataset_fin['debt']\n",
    "\n",
    "X_train, X_test, y_train, y_test = train_test_split(X, y, test_size=0.2)"
   ]
  },
  {
   "cell_type": "code",
   "execution_count": 40,
   "id": "23221bd2-da9b-4e58-b031-c51dd05757a1",
   "metadata": {},
   "outputs": [
    {
     "name": "stdout",
     "output_type": "stream",
     "text": [
      "[22:23:54] WARNING: ..\\src\\learner.cc:1115: Starting in XGBoost 1.3.0, the default evaluation metric used with the objective 'binary:logistic' was changed from 'error' to 'logloss'. Explicitly set eval_metric if you'd like to restore the old behavior.\n",
      "              precision    recall  f1-score   support\n",
      "\n",
      "           0       0.56      0.53      0.55       343\n",
      "           1       0.57      0.60      0.58       354\n",
      "\n",
      "    accuracy                           0.57       697\n",
      "   macro avg       0.57      0.56      0.56       697\n",
      "weighted avg       0.57      0.57      0.56       697\n",
      "\n"
     ]
    }
   ],
   "source": [
    "from xgboost import XGBClassifier\n",
    "def pipeline_types1():\n",
    "    numeric_features = [\n",
    "        'children', \n",
    "        'days_employed', \n",
    "        'dob_years',\n",
    "        'education_id',\n",
    "        'family_status_id', \n",
    "        'total_income',\n",
    "    ]\n",
    "    categorical_features = [\n",
    "        'education',\n",
    "        'family_status',\n",
    "        'gender',\n",
    "        'income_type',\n",
    "        'purpose',\n",
    "    ]\n",
    "\n",
    "    numeric_transformer = Pipeline(steps=[\n",
    "        ('imputer', SimpleImputer(strategy='most_frequent'))\n",
    "    ])\n",
    "    categorical_transformer = Pipeline(steps=[\n",
    "        ('imputer', SimpleImputer(strategy='most_frequent')),\n",
    "        ('onehot', OneHotEncoder(handle_unknown='ignore'))\n",
    "    ])\n",
    "    transformer = ColumnTransformer(transformers=[\n",
    "        ('numeric_data_preprocessing', numeric_transformer, numeric_features),\n",
    "        ('categorical_data_preprocessing', categorical_transformer, categorical_features)\n",
    "    ])\n",
    "    #Трубопровод трансформаций с окончательным оценщиком.\n",
    "    return Pipeline(steps=[\n",
    "        ('transformer', transformer),\n",
    "        ('rf_estimator', XGBClassifier()),\n",
    "    ])\n",
    "\n",
    "xgbc = pipeline_types1()\n",
    "xgbc.fit(X_train, y_train)\n",
    "prediction = xgbc.predict(X_test)\n",
    "\n",
    "print(classification_report(y_test, prediction))"
   ]
  },
  {
   "cell_type": "code",
   "execution_count": null,
   "id": "6d1d5f3d-7567-402b-8d1a-7c1e1bf63599",
   "metadata": {},
   "outputs": [],
   "source": []
  }
 ],
 "metadata": {
  "kernelspec": {
   "display_name": "Python 3 (ipykernel)",
   "language": "python",
   "name": "python3"
  },
  "language_info": {
   "codemirror_mode": {
    "name": "ipython",
    "version": 3
   },
   "file_extension": ".py",
   "mimetype": "text/x-python",
   "name": "python",
   "nbconvert_exporter": "python",
   "pygments_lexer": "ipython3",
   "version": "3.8.8"
  }
 },
 "nbformat": 4,
 "nbformat_minor": 5
}
