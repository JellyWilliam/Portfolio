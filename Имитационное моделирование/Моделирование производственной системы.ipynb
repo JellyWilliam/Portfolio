{
 "cells": [
  {
   "cell_type": "code",
   "execution_count": 8,
   "id": "0ca8eaa7-7f4b-475a-839c-b8fcd23276bf",
   "metadata": {},
   "outputs": [],
   "source": [
    "from numpy.random import gamma, exponential\n",
    "from numpy import log\n",
    "from random import random\n",
    "import pandas as pd"
   ]
  },
  {
   "cell_type": "code",
   "execution_count": 9,
   "id": "fc182b96-dfd8-49ca-b5ba-faef0f0942f0",
   "metadata": {},
   "outputs": [],
   "source": [
    "def exp(l, u):# экспоненциальное распределение (для определения времени поступления детали)\n",
    "    return -l*log(u)\n",
    "\n",
    "\n",
    "def type_detail(u):# тип создаваемой детали\n",
    "    if u <= 0.3:\n",
    "        return 1\n",
    "    elif u > 0.3 and u <= 0.5:\n",
    "        return 2\n",
    "    else:\n",
    "        return 3\n",
    "\n",
    "\n",
    "def min_time_index_last(history, type_d):\n",
    "    time_min = 8 * 60\n",
    "    for item in history:\n",
    "        if item[0] == type_d and not item[3]:\n",
    "            if time_min > item[2]:\n",
    "                time_min = item[2]\n",
    "                id_plat = item[4]\n",
    "    return time_min, id_plat"
   ]
  },
  {
   "cell_type": "code",
   "execution_count": 10,
   "id": "2cbebcfc-7ca1-4ef9-8deb-b1c23d7223f2",
   "metadata": {},
   "outputs": [],
   "source": [
    "# станки на платформах. id_платформы: {id_станка : блокирован/готов к работе}\n",
    "platform = {\n",
    "    \"1\" : {\n",
    "        \"1\" : True,\n",
    "        \"2\" : True,\n",
    "        \"3\" : True,\n",
    "        \"4\" : True,\n",
    "        \"5\" : True\n",
    "    },\n",
    "    \"2\" : {\n",
    "        \"1\" : True,\n",
    "        \"2\" : True,\n",
    "        \"3\" : True,\n",
    "        \"4\" : True,\n",
    "        \"5\" : True\n",
    "    },\n",
    "    \"3\" : {\n",
    "        \"1\" : True,\n",
    "        \"2\" : True,\n",
    "        \"3\" : True,\n",
    "        \"4\" : True,\n",
    "        \"5\" : True\n",
    "    }\n",
    "}\n",
    "\n",
    "# порядок выполнения работ\n",
    "work = {\n",
    "    \"1\" : [1, 1, 1, 1],\n",
    "    \"2\" : [2, 2, 2],\n",
    "    \"3\" : [3, 3, 3, 3, 3]\n",
    "}\n",
    "\n",
    "# время выполнения каждой работы\n",
    "time_work = {\n",
    "    \"1\" : [.25, .15, .1, .3],\n",
    "    \"2\" : [.15, .2, .3],\n",
    "    \"3\" : [.15, .1, .35, .2, .2]\n",
    "}"
   ]
  },
  {
   "cell_type": "code",
   "execution_count": 11,
   "id": "45445bf0-7bdb-438a-be89-7e008787c3dc",
   "metadata": {},
   "outputs": [],
   "source": [
    "gamma_form = 2 # форма гамма распредления\n",
    "l = 1/15 # 1/15 часа\n",
    "time = 8 * 60 # минут\n",
    "max_detail = 120 # количество необходимых деталей"
   ]
  },
  {
   "cell_type": "code",
   "execution_count": 14,
   "id": "ab4ce761-a276-433a-90d4-a5aa23a64abc",
   "metadata": {},
   "outputs": [],
   "source": [
    "time_last = 0 # времени прошло\n",
    "detail_complete = 0 # сделанных деталей\n",
    "history = []\n",
    "while time_last <= time:\n",
    "    u = random() # случайная величина\n",
    "    entrance = exp(l, u) # время поступления\n",
    "    time_last += entrance # времени прошло\n",
    "    \n",
    "    detail = type_detail(u) # тип заготовки\n",
    "    \n",
    "    necessary_work = work[str(detail)] # необходимые работы\n",
    "    time_to_work_mean = time_work[str(detail)] # среднее время выполнения работ\n",
    "    time_to_work = [(lambda time_mean: exp(4, u))(time_mean) for time_mean in time_to_work_mean] # время на выполнение работ\n",
    "    \n",
    "    for id_m, closed in platform[str(detail)].items():\n",
    "        if closed:\n",
    "            history.append([detail, time_last, time_last + sum(time_to_work), False, id_m])\n",
    "            platform[str(detail)][id_m] = False\n",
    "            flag = False\n",
    "            break\n",
    "        flag = True\n",
    "    \n",
    "    if flag:\n",
    "        time_min, id_plat = min_time_index_last(history, detail)\n",
    "        history.append([detail, time_last, time_min, False, id_plat])\n",
    "        \n",
    "    for i in range(len(history)):\n",
    "        if history[i][2] < time_last:\n",
    "            history[i][3] = True\n",
    "            platform[str(history[i][0])][str(history[i][4])] = True"
   ]
  },
  {
   "cell_type": "code",
   "execution_count": 16,
   "id": "68d7ffd0-598e-4531-97ce-6abad40c6feb",
   "metadata": {},
   "outputs": [],
   "source": [
    "df = pd.DataFrame([], columns=[\"Тип детали\", \"Время поступления\", \"Время завершения изготовления\", \"ID платформы\", \"ID станка\"])\n",
    "\n",
    "for el in history:\n",
    "    if el[3]:\n",
    "        df2 = pd.DataFrame([[el[0], el[1], el[2], el[0], el[4]]], columns=[\"Тип детали\", \"Время поступления\", \"Время завершения изготовления\", \"ID платформы\", \"ID станка\"])\n",
    "        df = df.append(df2, ignore_index=True)\n",
    "        \n",
    "df.to_excel(f\"Отчет.xlsx\")"
   ]
  },
  {
   "cell_type": "code",
   "execution_count": null,
   "id": "2635c85a-af33-407b-9061-d9fb2736daf2",
   "metadata": {},
   "outputs": [],
   "source": []
  }
 ],
 "metadata": {
  "kernelspec": {
   "display_name": "Python 3 (ipykernel)",
   "language": "python",
   "name": "python3"
  },
  "language_info": {
   "codemirror_mode": {
    "name": "ipython",
    "version": 3
   },
   "file_extension": ".py",
   "mimetype": "text/x-python",
   "name": "python",
   "nbconvert_exporter": "python",
   "pygments_lexer": "ipython3",
   "version": "3.8.8"
  }
 },
 "nbformat": 4,
 "nbformat_minor": 5
}
