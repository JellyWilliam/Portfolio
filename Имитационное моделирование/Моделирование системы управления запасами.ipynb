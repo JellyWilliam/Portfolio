{
 "cells": [
  {
   "cell_type": "code",
   "execution_count": 1,
   "id": "358a4e0a-e4c3-410a-9588-70cfbc8c8262",
   "metadata": {},
   "outputs": [],
   "source": [
    "from random import random, uniform\n",
    "from math import log, floor\n",
    "import numpy as np\n",
    "import pandas as pd\n",
    "import matplotlib.pyplot as plt\n",
    "%matplotlib inline"
   ]
  },
  {
   "cell_type": "code",
   "execution_count": 2,
   "id": "d05b77da-ad91-4d33-a42e-ad7046d70e23",
   "metadata": {},
   "outputs": [],
   "source": [
    "def exp(l, u):#Экспоненциальное распределение\n",
    "    return (-1*l)*log(u)\n",
    "\n",
    "def demand(u):#Спрос\n",
    "    if u < 1/6:\n",
    "        return 1\n",
    "    elif u >= 1/6 and u < (1/6 + 1/3):\n",
    "        return 2\n",
    "    elif u >= (1/6 + 1/3) and u < (1/6 + 2/3):\n",
    "        return 3\n",
    "    else:\n",
    "        return 4\n",
    "    \n",
    "def normal(x, a, b):#время доставки (в данном случае посчитает от полу месяца до месяца)\n",
    "    return (x-a)/(b-a)"
   ]
  },
  {
   "cell_type": "code",
   "execution_count": 3,
   "id": "10ba2d7f-dfa6-467f-8c34-b58483430b41",
   "metadata": {},
   "outputs": [],
   "source": [
    "l = 0.1#0.1 месяц\n",
    "S_mas = [40, 60, 80, 100, 60, 80, 100, 80, 100]\n",
    "s_0_mas = [20, 20, 20, 20, 40, 40, 40, 60, 60]\n",
    "K = 32 #покупная стоимость\n",
    "price = 3#дополнительные затраты\n",
    "\n",
    "X = []# Х для графика \n",
    "X_gen = []\n",
    "Y = []# Y для графика \n",
    "Y_gen = []"
   ]
  },
  {
   "cell_type": "code",
   "execution_count": 4,
   "id": "e5fa040a-d752-4bd2-85ec-82192ac45670",
   "metadata": {},
   "outputs": [
    {
     "name": "stdout",
     "output_type": "stream",
     "text": [
      "Поколение 1, S=40, s=20, средние затраты:7082.65\n"
     ]
    }
   ],
   "source": [
    "for generations in range(1):\n",
    "    best_strategy = ''\n",
    "    best_zatrat = 0\n",
    "    \n",
    "    X_gen.append([])\n",
    "    Y_gen.append([])\n",
    "    for number in range(len(S_mas)): #len(S_mas)\n",
    "        S = S_mas[number]\n",
    "        s_0 = s_0_mas[number]\n",
    "\n",
    "        t_nak = 0#Время\n",
    "        t_zakaz = 0#Время доставки\n",
    "        m_zatr = 0#Затраты\n",
    "        h = 0#Затраты на хранение\n",
    "        Z = 0\n",
    "        mas_zatr = []\n",
    "\n",
    "        I_current = S\n",
    "\n",
    "        i = -1\n",
    "        buf = []\n",
    "        \n",
    "        flag_z = False\n",
    "        \n",
    "        Nal_mas = []\n",
    "        \n",
    "        df = pd.DataFrame([], columns=[\"Месяц\", \"Наличие\", \"Купили\", \"Заказали\", \"Время прихода товара\"])\n",
    "        while t_nak < 120:\n",
    "            u = random()\n",
    "            t_come = exp(l, u)#Время появления клиента\n",
    "\n",
    "            t_nak += t_come#Общее время\n",
    "            buf.append(t_nak)\n",
    "\n",
    "            if t_nak > t_zakaz and flag_z:\n",
    "                I_current += Z\n",
    "                flag_z = False\n",
    "\n",
    "            d_current = demand(u)#Сколько спрос\n",
    "            I_current -= d_current#Сколько осталось\n",
    "            Nal_mas.append(I_current)\n",
    "            if len(buf) > 1:\n",
    "                if floor(buf[len(buf)-1]) > floor(buf[len(buf)-2]):\n",
    "                    t_prih = uniform(0.5,1)\n",
    "                    if floor(t_nak + t_prih) > floor(buf[len(buf)-1]):\n",
    "                        t_prih -= t_nak - floor(t_nak)\n",
    "                        t_zakaz = t_nak + t_prih\n",
    "                    else:\n",
    "                        t_zakaz = t_nak + t_prih\n",
    "                    flag_z = True\n",
    "                    \n",
    "                    if I_current < s_0:\n",
    "                        Z = S - I_current# сколко надо заказать\n",
    "                    else:\n",
    "                        Z = 0\n",
    "                    if I_current > 0:\n",
    "                        h = I_current * 1\n",
    "                    else:\n",
    "                        h = abs(I_current) * 5\n",
    "                    m_zatr += K + price * Z + h\n",
    "                    mas_zatr.append(m_zatr)\n",
    "                \n",
    "            df2 = pd.DataFrame([[t_nak, I_current + d_current, d_current, Z, t_zakaz]], columns=[\"Месяц\", \"Наличие\", \"Купили\", \"Заказали\", \"Время прихода товара\"])\n",
    "            df = df.append(df2, ignore_index=True)\n",
    "        \n",
    "        df.to_excel(f\"output gen-{generations+1} var-{number+1}.xlsx\")\n",
    "        \n",
    "        mean_zatr = round(np.mean(np.array(mas_zatr)), 2)\n",
    "        if best_zatrat == 0 or best_zatrat > mean_zatr:\n",
    "            best_strategy = \"Поколение \" + str(generations+1) + \", S=\" + str(S) + \", s=\" + str(s_0) + \", средние затраты:\" + str(mean_zatr)\n",
    "            best_zatrat = mean_zatr\n",
    "        X_gen[generations].append(number+1)\n",
    "        Y_gen[generations].append(mean_zatr)\n",
    "    \n",
    "    \n",
    "    X.append(generations+1)\n",
    "    Y.append(best_zatrat)\n",
    "    print(best_strategy)"
   ]
  },
  {
   "cell_type": "code",
   "execution_count": 5,
   "id": "5ec5c95a-97ff-46e7-9bd1-ea0a08c2d99f",
   "metadata": {},
   "outputs": [
    {
     "data": {
      "image/png": "[encoded data removed]",
      "text/plain": [
       "<Figure size 432x288 with 1 Axes>"
      ]
     },
     "metadata": {
      "needs_background": "light"
     },
     "output_type": "display_data"
    }
   ],
   "source": [
    "plt.step(buf, Nal_mas, where='post')\n",
    "plt.show()"
   ]
  },
  {
   "cell_type": "code",
   "execution_count": null,
   "id": "c6ea0328-8929-4818-bf2c-fe0e9f4a9e85",
   "metadata": {},
   "outputs": [],
   "source": []
  }
 ],
 "metadata": {
  "kernelspec": {
   "display_name": "Python 3 (ipykernel)",
   "language": "python",
   "name": "python3"
  },
  "language_info": {
   "codemirror_mode": {
    "name": "ipython",
    "version": 3
   },
   "file_extension": ".py",
   "mimetype": "text/x-python",
   "name": "python",
   "nbconvert_exporter": "python",
   "pygments_lexer": "ipython3",
   "version": "3.8.8"
  }
 },
 "nbformat": 4,
 "nbformat_minor": 5
}
